{
 "cells": [
  {
   "cell_type": "code",
   "execution_count": 1,
   "id": "2b75830d",
   "metadata": {},
   "outputs": [],
   "source": [
    "#Import Libraries\n",
    "import pandas as pd\n",
    "import numpy as np\n",
    "import matplotlib.pyplot as plt\n",
    "import seaborn as sns\n",
    "from sklearn.metrics import f1_score, recall_score, precision_score, accuracy_score\n",
    "\n",
    "import sys\n",
    "\n",
    "if not sys.warnoptions:\n",
    "    import warnings\n",
    "    warnings.simplefilter(\"ignore\")"
   ]
  },
  {
   "cell_type": "code",
   "execution_count": 2,
   "id": "4f0d32fd",
   "metadata": {},
   "outputs": [],
   "source": [
    "#Import Data\n",
    "KDD_df = pd.read_csv(r'E:/Deakin/SIT720/Assessment 4/Intrusion_detection_NSL_KDD.csv')"
   ]
  },
  {
   "cell_type": "markdown",
   "id": "d5e4438c",
   "metadata": {},
   "source": [
    "## Exploratory Data Analysis"
   ]
  },
  {
   "cell_type": "code",
   "execution_count": 3,
   "id": "2ef5ba37",
   "metadata": {},
   "outputs": [
    {
     "data": {
      "text/html": [
       "<div>\n",
       "<style scoped>\n",
       "    .dataframe tbody tr th:only-of-type {\n",
       "        vertical-align: middle;\n",
       "    }\n",
       "\n",
       "    .dataframe tbody tr th {\n",
       "        vertical-align: top;\n",
       "    }\n",
       "\n",
       "    .dataframe thead th {\n",
       "        text-align: right;\n",
       "    }\n",
       "</style>\n",
       "<table border=\"1\" class=\"dataframe\">\n",
       "  <thead>\n",
       "    <tr style=\"text-align: right;\">\n",
       "      <th></th>\n",
       "      <th>duration</th>\n",
       "      <th>protocol_type</th>\n",
       "      <th>service</th>\n",
       "      <th>flag</th>\n",
       "      <th>src_bytes</th>\n",
       "      <th>dst_bytes</th>\n",
       "      <th>land</th>\n",
       "      <th>wrong_fragment</th>\n",
       "      <th>urgent</th>\n",
       "      <th>hot</th>\n",
       "      <th>...</th>\n",
       "      <th>dst_host_srv_count</th>\n",
       "      <th>dst_host_same_srv_rate</th>\n",
       "      <th>dst_host_diff_srv_rate</th>\n",
       "      <th>dst_host_same_src_port_rate</th>\n",
       "      <th>dst_host_srv_diff_host_rate</th>\n",
       "      <th>dst_host_serror_rate</th>\n",
       "      <th>dst_host_srv_serror_rate</th>\n",
       "      <th>dst_host_rerror_rate</th>\n",
       "      <th>dst_host_srv_rerror_rate</th>\n",
       "      <th>attack_type</th>\n",
       "    </tr>\n",
       "  </thead>\n",
       "  <tbody>\n",
       "    <tr>\n",
       "      <th>0</th>\n",
       "      <td>0</td>\n",
       "      <td>udp</td>\n",
       "      <td>other</td>\n",
       "      <td>SF</td>\n",
       "      <td>146</td>\n",
       "      <td>0</td>\n",
       "      <td>0</td>\n",
       "      <td>0</td>\n",
       "      <td>0</td>\n",
       "      <td>0</td>\n",
       "      <td>...</td>\n",
       "      <td>1</td>\n",
       "      <td>0.00</td>\n",
       "      <td>0.60</td>\n",
       "      <td>0.88</td>\n",
       "      <td>0.00</td>\n",
       "      <td>0.00</td>\n",
       "      <td>0.00</td>\n",
       "      <td>0.0</td>\n",
       "      <td>0.00</td>\n",
       "      <td>normal</td>\n",
       "    </tr>\n",
       "    <tr>\n",
       "      <th>1</th>\n",
       "      <td>0</td>\n",
       "      <td>tcp</td>\n",
       "      <td>private</td>\n",
       "      <td>S0</td>\n",
       "      <td>0</td>\n",
       "      <td>0</td>\n",
       "      <td>0</td>\n",
       "      <td>0</td>\n",
       "      <td>0</td>\n",
       "      <td>0</td>\n",
       "      <td>...</td>\n",
       "      <td>26</td>\n",
       "      <td>0.10</td>\n",
       "      <td>0.05</td>\n",
       "      <td>0.00</td>\n",
       "      <td>0.00</td>\n",
       "      <td>1.00</td>\n",
       "      <td>1.00</td>\n",
       "      <td>0.0</td>\n",
       "      <td>0.00</td>\n",
       "      <td>neptune</td>\n",
       "    </tr>\n",
       "    <tr>\n",
       "      <th>2</th>\n",
       "      <td>0</td>\n",
       "      <td>tcp</td>\n",
       "      <td>http</td>\n",
       "      <td>SF</td>\n",
       "      <td>232</td>\n",
       "      <td>8153</td>\n",
       "      <td>0</td>\n",
       "      <td>0</td>\n",
       "      <td>0</td>\n",
       "      <td>0</td>\n",
       "      <td>...</td>\n",
       "      <td>255</td>\n",
       "      <td>1.00</td>\n",
       "      <td>0.00</td>\n",
       "      <td>0.03</td>\n",
       "      <td>0.04</td>\n",
       "      <td>0.03</td>\n",
       "      <td>0.01</td>\n",
       "      <td>0.0</td>\n",
       "      <td>0.01</td>\n",
       "      <td>normal</td>\n",
       "    </tr>\n",
       "    <tr>\n",
       "      <th>3</th>\n",
       "      <td>0</td>\n",
       "      <td>tcp</td>\n",
       "      <td>http</td>\n",
       "      <td>SF</td>\n",
       "      <td>199</td>\n",
       "      <td>420</td>\n",
       "      <td>0</td>\n",
       "      <td>0</td>\n",
       "      <td>0</td>\n",
       "      <td>0</td>\n",
       "      <td>...</td>\n",
       "      <td>255</td>\n",
       "      <td>1.00</td>\n",
       "      <td>0.00</td>\n",
       "      <td>0.00</td>\n",
       "      <td>0.00</td>\n",
       "      <td>0.00</td>\n",
       "      <td>0.00</td>\n",
       "      <td>0.0</td>\n",
       "      <td>0.00</td>\n",
       "      <td>normal</td>\n",
       "    </tr>\n",
       "    <tr>\n",
       "      <th>4</th>\n",
       "      <td>0</td>\n",
       "      <td>tcp</td>\n",
       "      <td>private</td>\n",
       "      <td>REJ</td>\n",
       "      <td>0</td>\n",
       "      <td>0</td>\n",
       "      <td>0</td>\n",
       "      <td>0</td>\n",
       "      <td>0</td>\n",
       "      <td>0</td>\n",
       "      <td>...</td>\n",
       "      <td>19</td>\n",
       "      <td>0.07</td>\n",
       "      <td>0.07</td>\n",
       "      <td>0.00</td>\n",
       "      <td>0.00</td>\n",
       "      <td>0.00</td>\n",
       "      <td>0.00</td>\n",
       "      <td>1.0</td>\n",
       "      <td>1.00</td>\n",
       "      <td>neptune</td>\n",
       "    </tr>\n",
       "  </tbody>\n",
       "</table>\n",
       "<p>5 rows × 42 columns</p>\n",
       "</div>"
      ],
      "text/plain": [
       "   duration protocol_type  service flag  src_bytes  dst_bytes  land  \\\n",
       "0         0           udp    other   SF        146          0     0   \n",
       "1         0           tcp  private   S0          0          0     0   \n",
       "2         0           tcp     http   SF        232       8153     0   \n",
       "3         0           tcp     http   SF        199        420     0   \n",
       "4         0           tcp  private  REJ          0          0     0   \n",
       "\n",
       "   wrong_fragment  urgent  hot  ...  dst_host_srv_count  \\\n",
       "0               0       0    0  ...                   1   \n",
       "1               0       0    0  ...                  26   \n",
       "2               0       0    0  ...                 255   \n",
       "3               0       0    0  ...                 255   \n",
       "4               0       0    0  ...                  19   \n",
       "\n",
       "   dst_host_same_srv_rate  dst_host_diff_srv_rate  \\\n",
       "0                    0.00                    0.60   \n",
       "1                    0.10                    0.05   \n",
       "2                    1.00                    0.00   \n",
       "3                    1.00                    0.00   \n",
       "4                    0.07                    0.07   \n",
       "\n",
       "   dst_host_same_src_port_rate  dst_host_srv_diff_host_rate  \\\n",
       "0                         0.88                         0.00   \n",
       "1                         0.00                         0.00   \n",
       "2                         0.03                         0.04   \n",
       "3                         0.00                         0.00   \n",
       "4                         0.00                         0.00   \n",
       "\n",
       "   dst_host_serror_rate  dst_host_srv_serror_rate  dst_host_rerror_rate  \\\n",
       "0                  0.00                      0.00                   0.0   \n",
       "1                  1.00                      1.00                   0.0   \n",
       "2                  0.03                      0.01                   0.0   \n",
       "3                  0.00                      0.00                   0.0   \n",
       "4                  0.00                      0.00                   1.0   \n",
       "\n",
       "   dst_host_srv_rerror_rate  attack_type  \n",
       "0                      0.00       normal  \n",
       "1                      0.00      neptune  \n",
       "2                      0.01       normal  \n",
       "3                      0.00       normal  \n",
       "4                      1.00      neptune  \n",
       "\n",
       "[5 rows x 42 columns]"
      ]
     },
     "execution_count": 3,
     "metadata": {},
     "output_type": "execute_result"
    }
   ],
   "source": [
    "KDD_df.head()"
   ]
  },
  {
   "cell_type": "markdown",
   "id": "fb2b7dc3",
   "metadata": {},
   "source": [
    "### Statistical Description"
   ]
  },
  {
   "cell_type": "code",
   "execution_count": 4,
   "id": "017c5499",
   "metadata": {},
   "outputs": [
    {
     "data": {
      "text/html": [
       "<div>\n",
       "<style scoped>\n",
       "    .dataframe tbody tr th:only-of-type {\n",
       "        vertical-align: middle;\n",
       "    }\n",
       "\n",
       "    .dataframe tbody tr th {\n",
       "        vertical-align: top;\n",
       "    }\n",
       "\n",
       "    .dataframe thead th {\n",
       "        text-align: right;\n",
       "    }\n",
       "</style>\n",
       "<table border=\"1\" class=\"dataframe\">\n",
       "  <thead>\n",
       "    <tr style=\"text-align: right;\">\n",
       "      <th></th>\n",
       "      <th>duration</th>\n",
       "      <th>src_bytes</th>\n",
       "      <th>dst_bytes</th>\n",
       "      <th>land</th>\n",
       "      <th>wrong_fragment</th>\n",
       "      <th>urgent</th>\n",
       "      <th>hot</th>\n",
       "      <th>num_failed_logins</th>\n",
       "      <th>logged_in</th>\n",
       "      <th>num_compromised</th>\n",
       "      <th>...</th>\n",
       "      <th>dst_host_count</th>\n",
       "      <th>dst_host_srv_count</th>\n",
       "      <th>dst_host_same_srv_rate</th>\n",
       "      <th>dst_host_diff_srv_rate</th>\n",
       "      <th>dst_host_same_src_port_rate</th>\n",
       "      <th>dst_host_srv_diff_host_rate</th>\n",
       "      <th>dst_host_serror_rate</th>\n",
       "      <th>dst_host_srv_serror_rate</th>\n",
       "      <th>dst_host_rerror_rate</th>\n",
       "      <th>dst_host_srv_rerror_rate</th>\n",
       "    </tr>\n",
       "  </thead>\n",
       "  <tbody>\n",
       "    <tr>\n",
       "      <th>count</th>\n",
       "      <td>148514.000000</td>\n",
       "      <td>1.485140e+05</td>\n",
       "      <td>1.485140e+05</td>\n",
       "      <td>148514.000000</td>\n",
       "      <td>148514.000000</td>\n",
       "      <td>148514.000000</td>\n",
       "      <td>148514.000000</td>\n",
       "      <td>148514.000000</td>\n",
       "      <td>148514.000000</td>\n",
       "      <td>148514.000000</td>\n",
       "      <td>...</td>\n",
       "      <td>148514.000000</td>\n",
       "      <td>148514.000000</td>\n",
       "      <td>148514.000000</td>\n",
       "      <td>148514.0000</td>\n",
       "      <td>148514.000000</td>\n",
       "      <td>148514.000000</td>\n",
       "      <td>148514.000000</td>\n",
       "      <td>148514.000000</td>\n",
       "      <td>148514.000000</td>\n",
       "      <td>148514.000000</td>\n",
       "    </tr>\n",
       "    <tr>\n",
       "      <th>mean</th>\n",
       "      <td>276.784896</td>\n",
       "      <td>4.022876e+04</td>\n",
       "      <td>1.708920e+04</td>\n",
       "      <td>0.000215</td>\n",
       "      <td>0.020523</td>\n",
       "      <td>0.000202</td>\n",
       "      <td>0.189383</td>\n",
       "      <td>0.004323</td>\n",
       "      <td>0.402797</td>\n",
       "      <td>0.255067</td>\n",
       "      <td>...</td>\n",
       "      <td>183.927313</td>\n",
       "      <td>119.464791</td>\n",
       "      <td>0.534530</td>\n",
       "      <td>0.0841</td>\n",
       "      <td>0.145929</td>\n",
       "      <td>0.030584</td>\n",
       "      <td>0.256127</td>\n",
       "      <td>0.251310</td>\n",
       "      <td>0.136214</td>\n",
       "      <td>0.136393</td>\n",
       "    </tr>\n",
       "    <tr>\n",
       "      <th>std</th>\n",
       "      <td>2460.707669</td>\n",
       "      <td>5.409666e+06</td>\n",
       "      <td>3.703562e+06</td>\n",
       "      <td>0.014677</td>\n",
       "      <td>0.240071</td>\n",
       "      <td>0.019417</td>\n",
       "      <td>2.013180</td>\n",
       "      <td>0.072249</td>\n",
       "      <td>0.490462</td>\n",
       "      <td>22.231599</td>\n",
       "      <td>...</td>\n",
       "      <td>98.528938</td>\n",
       "      <td>111.232425</td>\n",
       "      <td>0.448061</td>\n",
       "      <td>0.1941</td>\n",
       "      <td>0.308637</td>\n",
       "      <td>0.108976</td>\n",
       "      <td>0.428502</td>\n",
       "      <td>0.429722</td>\n",
       "      <td>0.322736</td>\n",
       "      <td>0.335278</td>\n",
       "    </tr>\n",
       "    <tr>\n",
       "      <th>min</th>\n",
       "      <td>0.000000</td>\n",
       "      <td>0.000000e+00</td>\n",
       "      <td>0.000000e+00</td>\n",
       "      <td>0.000000</td>\n",
       "      <td>0.000000</td>\n",
       "      <td>0.000000</td>\n",
       "      <td>0.000000</td>\n",
       "      <td>0.000000</td>\n",
       "      <td>0.000000</td>\n",
       "      <td>0.000000</td>\n",
       "      <td>...</td>\n",
       "      <td>0.000000</td>\n",
       "      <td>0.000000</td>\n",
       "      <td>0.000000</td>\n",
       "      <td>0.0000</td>\n",
       "      <td>0.000000</td>\n",
       "      <td>0.000000</td>\n",
       "      <td>0.000000</td>\n",
       "      <td>0.000000</td>\n",
       "      <td>0.000000</td>\n",
       "      <td>0.000000</td>\n",
       "    </tr>\n",
       "    <tr>\n",
       "      <th>25%</th>\n",
       "      <td>0.000000</td>\n",
       "      <td>0.000000e+00</td>\n",
       "      <td>0.000000e+00</td>\n",
       "      <td>0.000000</td>\n",
       "      <td>0.000000</td>\n",
       "      <td>0.000000</td>\n",
       "      <td>0.000000</td>\n",
       "      <td>0.000000</td>\n",
       "      <td>0.000000</td>\n",
       "      <td>0.000000</td>\n",
       "      <td>...</td>\n",
       "      <td>87.000000</td>\n",
       "      <td>11.000000</td>\n",
       "      <td>0.050000</td>\n",
       "      <td>0.0000</td>\n",
       "      <td>0.000000</td>\n",
       "      <td>0.000000</td>\n",
       "      <td>0.000000</td>\n",
       "      <td>0.000000</td>\n",
       "      <td>0.000000</td>\n",
       "      <td>0.000000</td>\n",
       "    </tr>\n",
       "    <tr>\n",
       "      <th>50%</th>\n",
       "      <td>0.000000</td>\n",
       "      <td>4.400000e+01</td>\n",
       "      <td>0.000000e+00</td>\n",
       "      <td>0.000000</td>\n",
       "      <td>0.000000</td>\n",
       "      <td>0.000000</td>\n",
       "      <td>0.000000</td>\n",
       "      <td>0.000000</td>\n",
       "      <td>0.000000</td>\n",
       "      <td>0.000000</td>\n",
       "      <td>...</td>\n",
       "      <td>255.000000</td>\n",
       "      <td>72.000000</td>\n",
       "      <td>0.600000</td>\n",
       "      <td>0.0200</td>\n",
       "      <td>0.000000</td>\n",
       "      <td>0.000000</td>\n",
       "      <td>0.000000</td>\n",
       "      <td>0.000000</td>\n",
       "      <td>0.000000</td>\n",
       "      <td>0.000000</td>\n",
       "    </tr>\n",
       "    <tr>\n",
       "      <th>75%</th>\n",
       "      <td>0.000000</td>\n",
       "      <td>2.780000e+02</td>\n",
       "      <td>5.710000e+02</td>\n",
       "      <td>0.000000</td>\n",
       "      <td>0.000000</td>\n",
       "      <td>0.000000</td>\n",
       "      <td>0.000000</td>\n",
       "      <td>0.000000</td>\n",
       "      <td>1.000000</td>\n",
       "      <td>0.000000</td>\n",
       "      <td>...</td>\n",
       "      <td>255.000000</td>\n",
       "      <td>255.000000</td>\n",
       "      <td>1.000000</td>\n",
       "      <td>0.0700</td>\n",
       "      <td>0.050000</td>\n",
       "      <td>0.010000</td>\n",
       "      <td>0.600000</td>\n",
       "      <td>0.500000</td>\n",
       "      <td>0.000000</td>\n",
       "      <td>0.000000</td>\n",
       "    </tr>\n",
       "    <tr>\n",
       "      <th>max</th>\n",
       "      <td>57715.000000</td>\n",
       "      <td>1.379964e+09</td>\n",
       "      <td>1.309937e+09</td>\n",
       "      <td>1.000000</td>\n",
       "      <td>3.000000</td>\n",
       "      <td>3.000000</td>\n",
       "      <td>101.000000</td>\n",
       "      <td>5.000000</td>\n",
       "      <td>1.000000</td>\n",
       "      <td>7479.000000</td>\n",
       "      <td>...</td>\n",
       "      <td>255.000000</td>\n",
       "      <td>255.000000</td>\n",
       "      <td>1.000000</td>\n",
       "      <td>1.0000</td>\n",
       "      <td>1.000000</td>\n",
       "      <td>1.000000</td>\n",
       "      <td>1.000000</td>\n",
       "      <td>1.000000</td>\n",
       "      <td>1.000000</td>\n",
       "      <td>1.000000</td>\n",
       "    </tr>\n",
       "  </tbody>\n",
       "</table>\n",
       "<p>8 rows × 38 columns</p>\n",
       "</div>"
      ],
      "text/plain": [
       "            duration     src_bytes     dst_bytes           land  \\\n",
       "count  148514.000000  1.485140e+05  1.485140e+05  148514.000000   \n",
       "mean      276.784896  4.022876e+04  1.708920e+04       0.000215   \n",
       "std      2460.707669  5.409666e+06  3.703562e+06       0.014677   \n",
       "min         0.000000  0.000000e+00  0.000000e+00       0.000000   \n",
       "25%         0.000000  0.000000e+00  0.000000e+00       0.000000   \n",
       "50%         0.000000  4.400000e+01  0.000000e+00       0.000000   \n",
       "75%         0.000000  2.780000e+02  5.710000e+02       0.000000   \n",
       "max     57715.000000  1.379964e+09  1.309937e+09       1.000000   \n",
       "\n",
       "       wrong_fragment         urgent            hot  num_failed_logins  \\\n",
       "count   148514.000000  148514.000000  148514.000000      148514.000000   \n",
       "mean         0.020523       0.000202       0.189383           0.004323   \n",
       "std          0.240071       0.019417       2.013180           0.072249   \n",
       "min          0.000000       0.000000       0.000000           0.000000   \n",
       "25%          0.000000       0.000000       0.000000           0.000000   \n",
       "50%          0.000000       0.000000       0.000000           0.000000   \n",
       "75%          0.000000       0.000000       0.000000           0.000000   \n",
       "max          3.000000       3.000000     101.000000           5.000000   \n",
       "\n",
       "           logged_in  num_compromised  ...  dst_host_count  \\\n",
       "count  148514.000000    148514.000000  ...   148514.000000   \n",
       "mean        0.402797         0.255067  ...      183.927313   \n",
       "std         0.490462        22.231599  ...       98.528938   \n",
       "min         0.000000         0.000000  ...        0.000000   \n",
       "25%         0.000000         0.000000  ...       87.000000   \n",
       "50%         0.000000         0.000000  ...      255.000000   \n",
       "75%         1.000000         0.000000  ...      255.000000   \n",
       "max         1.000000      7479.000000  ...      255.000000   \n",
       "\n",
       "       dst_host_srv_count  dst_host_same_srv_rate  dst_host_diff_srv_rate  \\\n",
       "count       148514.000000           148514.000000             148514.0000   \n",
       "mean           119.464791                0.534530                  0.0841   \n",
       "std            111.232425                0.448061                  0.1941   \n",
       "min              0.000000                0.000000                  0.0000   \n",
       "25%             11.000000                0.050000                  0.0000   \n",
       "50%             72.000000                0.600000                  0.0200   \n",
       "75%            255.000000                1.000000                  0.0700   \n",
       "max            255.000000                1.000000                  1.0000   \n",
       "\n",
       "       dst_host_same_src_port_rate  dst_host_srv_diff_host_rate  \\\n",
       "count                148514.000000                148514.000000   \n",
       "mean                      0.145929                     0.030584   \n",
       "std                       0.308637                     0.108976   \n",
       "min                       0.000000                     0.000000   \n",
       "25%                       0.000000                     0.000000   \n",
       "50%                       0.000000                     0.000000   \n",
       "75%                       0.050000                     0.010000   \n",
       "max                       1.000000                     1.000000   \n",
       "\n",
       "       dst_host_serror_rate  dst_host_srv_serror_rate  dst_host_rerror_rate  \\\n",
       "count         148514.000000             148514.000000         148514.000000   \n",
       "mean               0.256127                  0.251310              0.136214   \n",
       "std                0.428502                  0.429722              0.322736   \n",
       "min                0.000000                  0.000000              0.000000   \n",
       "25%                0.000000                  0.000000              0.000000   \n",
       "50%                0.000000                  0.000000              0.000000   \n",
       "75%                0.600000                  0.500000              0.000000   \n",
       "max                1.000000                  1.000000              1.000000   \n",
       "\n",
       "       dst_host_srv_rerror_rate  \n",
       "count             148514.000000  \n",
       "mean                   0.136393  \n",
       "std                    0.335278  \n",
       "min                    0.000000  \n",
       "25%                    0.000000  \n",
       "50%                    0.000000  \n",
       "75%                    0.000000  \n",
       "max                    1.000000  \n",
       "\n",
       "[8 rows x 38 columns]"
      ]
     },
     "execution_count": 4,
     "metadata": {},
     "output_type": "execute_result"
    }
   ],
   "source": [
    "KDD_df.describe()"
   ]
  },
  {
   "cell_type": "markdown",
   "id": "92364b34",
   "metadata": {},
   "source": [
    "## Data Information"
   ]
  },
  {
   "cell_type": "code",
   "execution_count": 5,
   "id": "707b77e3",
   "metadata": {},
   "outputs": [
    {
     "name": "stdout",
     "output_type": "stream",
     "text": [
      "<class 'pandas.core.frame.DataFrame'>\n",
      "RangeIndex: 148514 entries, 0 to 148513\n",
      "Data columns (total 42 columns):\n",
      " #   Column                       Non-Null Count   Dtype  \n",
      "---  ------                       --------------   -----  \n",
      " 0   duration                     148514 non-null  int64  \n",
      " 1   protocol_type                148514 non-null  object \n",
      " 2   service                      148514 non-null  object \n",
      " 3   flag                         148514 non-null  object \n",
      " 4   src_bytes                    148514 non-null  int64  \n",
      " 5   dst_bytes                    148514 non-null  int64  \n",
      " 6   land                         148514 non-null  int64  \n",
      " 7   wrong_fragment               148514 non-null  int64  \n",
      " 8   urgent                       148514 non-null  int64  \n",
      " 9   hot                          148514 non-null  int64  \n",
      " 10  num_failed_logins            148514 non-null  int64  \n",
      " 11  logged_in                    148514 non-null  int64  \n",
      " 12  num_compromised              148514 non-null  int64  \n",
      " 13  root_shell                   148514 non-null  int64  \n",
      " 14  su_attempted                 148514 non-null  int64  \n",
      " 15  num_root                     148514 non-null  int64  \n",
      " 16  num_file_creations           148514 non-null  int64  \n",
      " 17  num_shells                   148514 non-null  int64  \n",
      " 18  num_access_files             148514 non-null  int64  \n",
      " 19  num_outbound_cmds            148514 non-null  int64  \n",
      " 20  is_host_login                148514 non-null  int64  \n",
      " 21  is_guest_login               148514 non-null  int64  \n",
      " 22  count                        148514 non-null  int64  \n",
      " 23  srv_count                    148514 non-null  int64  \n",
      " 24  serror_rate                  148514 non-null  float64\n",
      " 25  srv_serror_rate              148514 non-null  float64\n",
      " 26  rerror_rate                  148514 non-null  float64\n",
      " 27  srv_rerror_rate              148514 non-null  float64\n",
      " 28  same_srv_rate                148514 non-null  float64\n",
      " 29  diff_srv_rate                148514 non-null  float64\n",
      " 30  srv_diff_host_rate           148514 non-null  float64\n",
      " 31  dst_host_count               148514 non-null  int64  \n",
      " 32  dst_host_srv_count           148514 non-null  int64  \n",
      " 33  dst_host_same_srv_rate       148514 non-null  float64\n",
      " 34  dst_host_diff_srv_rate       148514 non-null  float64\n",
      " 35  dst_host_same_src_port_rate  148514 non-null  float64\n",
      " 36  dst_host_srv_diff_host_rate  148514 non-null  float64\n",
      " 37  dst_host_serror_rate         148514 non-null  float64\n",
      " 38  dst_host_srv_serror_rate     148514 non-null  float64\n",
      " 39  dst_host_rerror_rate         148514 non-null  float64\n",
      " 40  dst_host_srv_rerror_rate     148514 non-null  float64\n",
      " 41  attack_type                  148514 non-null  object \n",
      "dtypes: float64(15), int64(23), object(4)\n",
      "memory usage: 47.6+ MB\n",
      "None\n"
     ]
    }
   ],
   "source": [
    "print(KDD_df.info())"
   ]
  },
  {
   "cell_type": "markdown",
   "id": "c001351f",
   "metadata": {},
   "source": [
    "### Missing Values"
   ]
  },
  {
   "cell_type": "code",
   "execution_count": 6,
   "id": "79bcf595",
   "metadata": {},
   "outputs": [
    {
     "name": "stdout",
     "output_type": "stream",
     "text": [
      "duration                       0\n",
      "protocol_type                  0\n",
      "service                        0\n",
      "flag                           0\n",
      "src_bytes                      0\n",
      "dst_bytes                      0\n",
      "land                           0\n",
      "wrong_fragment                 0\n",
      "urgent                         0\n",
      "hot                            0\n",
      "num_failed_logins              0\n",
      "logged_in                      0\n",
      "num_compromised                0\n",
      "root_shell                     0\n",
      "su_attempted                   0\n",
      "num_root                       0\n",
      "num_file_creations             0\n",
      "num_shells                     0\n",
      "num_access_files               0\n",
      "num_outbound_cmds              0\n",
      "is_host_login                  0\n",
      "is_guest_login                 0\n",
      "count                          0\n",
      "srv_count                      0\n",
      "serror_rate                    0\n",
      "srv_serror_rate                0\n",
      "rerror_rate                    0\n",
      "srv_rerror_rate                0\n",
      "same_srv_rate                  0\n",
      "diff_srv_rate                  0\n",
      "srv_diff_host_rate             0\n",
      "dst_host_count                 0\n",
      "dst_host_srv_count             0\n",
      "dst_host_same_srv_rate         0\n",
      "dst_host_diff_srv_rate         0\n",
      "dst_host_same_src_port_rate    0\n",
      "dst_host_srv_diff_host_rate    0\n",
      "dst_host_serror_rate           0\n",
      "dst_host_srv_serror_rate       0\n",
      "dst_host_rerror_rate           0\n",
      "dst_host_srv_rerror_rate       0\n",
      "attack_type                    0\n",
      "dtype: int64\n"
     ]
    }
   ],
   "source": [
    "print(KDD_df.isnull().sum())"
   ]
  },
  {
   "cell_type": "markdown",
   "id": "6285a580",
   "metadata": {},
   "source": [
    "### Label Distribution"
   ]
  },
  {
   "cell_type": "code",
   "execution_count": 7,
   "id": "16cd3168",
   "metadata": {},
   "outputs": [
    {
     "name": "stdout",
     "output_type": "stream",
     "text": [
      "Label distribution of dataset:\n",
      "normal             77052\n",
      "neptune            45870\n",
      "satan               4368\n",
      "ipsweep             3740\n",
      "smurf               3311\n",
      "portsweep           3088\n",
      "nmap                1566\n",
      "back                1315\n",
      "guess_passwd        1284\n",
      "mscan                996\n",
      "warezmaster          964\n",
      "teardrop             904\n",
      "warezclient          890\n",
      "apache2              737\n",
      "processtable         685\n",
      "snmpguess            331\n",
      "saint                319\n",
      "mailbomb             293\n",
      "pod                  242\n",
      "snmpgetattack        178\n",
      "httptunnel           133\n",
      "buffer_overflow       50\n",
      "land                  25\n",
      "multihop              25\n",
      "rootkit               23\n",
      "named                 17\n",
      "ps                    15\n",
      "sendmail              14\n",
      "xterm                 13\n",
      "imap                  12\n",
      "loadmodule            11\n",
      "ftp_write             11\n",
      "xlock                  9\n",
      "phf                    6\n",
      "perl                   5\n",
      "xsnoop                 4\n",
      "spy                    2\n",
      "worm                   2\n",
      "sqlattack              2\n",
      "udpstorm               2\n",
      "Name: attack_type, dtype: int64\n",
      "\n"
     ]
    }
   ],
   "source": [
    "print('Label distribution of dataset:') # Prints the labels amounts within the Dataset. \n",
    "print(KDD_df['attack_type'].value_counts())\n",
    "print()"
   ]
  },
  {
   "cell_type": "markdown",
   "id": "782700a5",
   "metadata": {},
   "source": [
    "## Pre-Processing"
   ]
  },
  {
   "cell_type": "markdown",
   "id": "56f444b6",
   "metadata": {},
   "source": [
    "### Dropping Attack_types not included in modified list"
   ]
  },
  {
   "cell_type": "markdown",
   "id": "d139c835",
   "metadata": {},
   "source": [
    "### Mapping"
   ]
  },
  {
   "cell_type": "code",
   "execution_count": 8,
   "id": "a712cc30",
   "metadata": {},
   "outputs": [],
   "source": [
    "### Map Labels into four types of attack type: DOS, u2r, r2l and probe\n",
    "\n",
    "#Preprocessing\n",
    "\n",
    "# Define lists which map the different attack types to four types of attack\n",
    "dos = ['Back', 'land', 'neptune', 'pod', 'smurf', 'teardrop']\n",
    "u2r = ['buffer_overflow', 'loadmodule', 'perl', 'rootkit']\n",
    "probe = ['ipsweep', 'nmap', 'portsweep', 'satan']\n",
    "r2l = ['ftp_write', 'guess_passwd', 'imap', 'multihop', 'phf','spy', 'warezclient', 'warezmaster']\n",
    "\n",
    "# Define a function which will be applied to the attack types\n",
    "def encode_attack(vec):\n",
    "    if vec in dos:\n",
    "        return \"dos\"\n",
    "    elif vec in u2r:\n",
    "        return \"u2r\"\n",
    "    elif vec in probe:\n",
    "        return \"probe\"\n",
    "    elif vec in r2l:\n",
    "        return \"R2L\"\n",
    "    elif vec == 'normal':\n",
    "        return 'normal'\n",
    "    else:\n",
    "        pass\n",
    "    \n",
    "# Create a new variable called 'Target' which maps different attack types to the four labels: dos, u2r, probe, r2l\n",
    "\n",
    "KDD_df['label'] = KDD_df['attack_type'].apply(encode_attack)\n",
    "KDD_df = KDD_df.drop('attack_type', axis=1)"
   ]
  },
  {
   "cell_type": "code",
   "execution_count": 9,
   "id": "59be1dcd",
   "metadata": {},
   "outputs": [
    {
     "name": "stdout",
     "output_type": "stream",
     "text": [
      "Newly mapped Label distribution of dataset:\n",
      "normal    77052\n",
      "dos       50352\n",
      "probe     12762\n",
      "R2L        3194\n",
      "u2r          89\n",
      "Name: label, dtype: int64\n",
      "\n"
     ]
    }
   ],
   "source": [
    "print('Newly mapped Label distribution of dataset:')\n",
    "print(KDD_df['label'].value_counts())\n",
    "print()"
   ]
  },
  {
   "cell_type": "code",
   "execution_count": 10,
   "id": "3b22670d",
   "metadata": {
    "scrolled": true
   },
   "outputs": [
    {
     "data": {
      "image/png": "[encoded data removed]",
      "text/plain": [
       "<Figure size 720x432 with 1 Axes>"
      ]
     },
     "metadata": {
      "needs_background": "light"
     },
     "output_type": "display_data"
    }
   ],
   "source": [
    "# Plot a histogram of the above distribution of target variables\n",
    "\n",
    "plt.figure(figsize=(10,6))\n",
    "ax = sns.histplot(data=KDD_df, x='label',hue='label')\n",
    "ax.set_xlabel(\"Attack type\", fontsize = 20)\n",
    "ax.set_ylabel(\"Count\", fontsize = 20)\n",
    "ax.set_title(\"Attacks type data counts\", fontsize = 20)\n",
    "ax.set_title('Targets by Count')\n",
    "plt.show()"
   ]
  },
  {
   "cell_type": "markdown",
   "id": "3280f2f1",
   "metadata": {},
   "source": [
    "As you can see the mapped label distribution does not exactly match the exact data count for each class found in Kilincer et al (2021) it is worth sampling to fit that particular distribution. The values we want are normal = 6817, dos = 11617, probe = 988, r2l = 3086 and u2r = 53"
   ]
  },
  {
   "cell_type": "markdown",
   "id": "7b0fecd4",
   "metadata": {},
   "source": [
    "### Sampling Data"
   ]
  },
  {
   "cell_type": "code",
   "execution_count": 11,
   "id": "d111d1bb",
   "metadata": {},
   "outputs": [],
   "source": [
    "normal = pd.DataFrame(KDD_df['label'] == 'normal')\n",
    "dos = pd.DataFrame(KDD_df['label'] == 'dos')\n",
    "r2l = pd.DataFrame(KDD_df['label'] == 'R2L')\n",
    "probe = pd.DataFrame(KDD_df['label'] == 'probe')\n",
    "u2r = pd.DataFrame(KDD_df['label'] == 'u2r')"
   ]
  },
  {
   "cell_type": "code",
   "execution_count": 12,
   "id": "bb272980",
   "metadata": {},
   "outputs": [],
   "source": [
    "normal = normal[normal['label'] == True]\n",
    "dos = dos[dos['label'] == True]\n",
    "r2l = r2l[r2l['label'] == True]\n",
    "probe = probe[probe['label'] == True]\n",
    "u2r = u2r[u2r['label'] == True]"
   ]
  },
  {
   "cell_type": "code",
   "execution_count": 13,
   "id": "4a4420e0",
   "metadata": {},
   "outputs": [],
   "source": [
    "normal = pd.DataFrame(normal.sample(n=6817))\n",
    "dos = pd.DataFrame(dos.sample(n=11617))\n",
    "r2l = pd.DataFrame(r2l.sample(n=3086))\n",
    "probe = pd.DataFrame(probe.sample(n=988))\n",
    "u2r = pd.DataFrame(u2r.sample(n=53))"
   ]
  },
  {
   "cell_type": "code",
   "execution_count": 14,
   "id": "01b430cc",
   "metadata": {},
   "outputs": [],
   "source": [
    "kdd_sample = pd.concat([normal, dos, r2l, probe, u2r])"
   ]
  },
  {
   "cell_type": "code",
   "execution_count": 15,
   "id": "8143510d",
   "metadata": {},
   "outputs": [],
   "source": [
    "KDD_new = KDD_df.loc[kdd_sample.index]"
   ]
  },
  {
   "cell_type": "code",
   "execution_count": 16,
   "id": "d3bfea5d",
   "metadata": {},
   "outputs": [
    {
     "data": {
      "text/plain": [
       "dos       11617\n",
       "normal     6817\n",
       "R2L        3086\n",
       "probe       988\n",
       "u2r          53\n",
       "Name: label, dtype: int64"
      ]
     },
     "execution_count": 16,
     "metadata": {},
     "output_type": "execute_result"
    }
   ],
   "source": [
    "KDD_new['label'].value_counts()"
   ]
  },
  {
   "cell_type": "markdown",
   "id": "9bd7a6fa",
   "metadata": {},
   "source": [
    "### Encode Cateogrical Variables to Numerical"
   ]
  },
  {
   "cell_type": "code",
   "execution_count": 17,
   "id": "6a142c6a",
   "metadata": {},
   "outputs": [],
   "source": [
    "from sklearn.preprocessing import LabelEncoder\n",
    "\n",
    "LabelEncoder = LabelEncoder()\n",
    "\n",
    "KDD_new['label'] = LabelEncoder.fit_transform(KDD_new['label'])\n",
    "KDD_new['protocol_type'] = LabelEncoder.fit_transform(KDD_new['protocol_type'])\n",
    "KDD_new['service'] = LabelEncoder.fit_transform(KDD_new['service'])\n",
    "KDD_new['flag'] = LabelEncoder.fit_transform(KDD_new['flag'])"
   ]
  },
  {
   "cell_type": "code",
   "execution_count": 18,
   "id": "b7c5f074",
   "metadata": {},
   "outputs": [],
   "source": [
    "KDD_new = KDD_new.reset_index()"
   ]
  },
  {
   "cell_type": "code",
   "execution_count": 19,
   "id": "14fcfb19",
   "metadata": {},
   "outputs": [],
   "source": [
    "Train_df = KDD_new.drop('label',axis=1)\n",
    "Test_df = KDD_new['label']"
   ]
  },
  {
   "cell_type": "code",
   "execution_count": 20,
   "id": "8c31251d",
   "metadata": {},
   "outputs": [
    {
     "name": "stdout",
     "output_type": "stream",
     "text": [
      "(22561, 42)\n",
      "(22561,)\n"
     ]
    }
   ],
   "source": [
    "print(Train_df.shape)\n",
    "print(Test_df.shape)"
   ]
  },
  {
   "cell_type": "markdown",
   "id": "298cd643",
   "metadata": {},
   "source": [
    "### Standardise Data using MinMaxScaler"
   ]
  },
  {
   "cell_type": "code",
   "execution_count": 21,
   "id": "68ead319",
   "metadata": {},
   "outputs": [],
   "source": [
    "from sklearn.preprocessing import MinMaxScaler\n",
    "\n",
    "scaler = MinMaxScaler()\n",
    "\n",
    "scaled_X = pd.DataFrame(scaler.fit_transform(Train_df))"
   ]
  },
  {
   "cell_type": "markdown",
   "id": "df9e81dd",
   "metadata": {},
   "source": [
    "### Apply 10 K Cross-Fold and Split Data"
   ]
  },
  {
   "cell_type": "code",
   "execution_count": 22,
   "id": "317d47c6",
   "metadata": {},
   "outputs": [],
   "source": [
    "### Split the Data into Training and Split Datasets\n",
    "\n",
    "from sklearn.model_selection import KFold\n",
    "\n",
    "kfold = KFold(n_splits=10, shuffle=True, random_state=42)"
   ]
  },
  {
   "cell_type": "code",
   "execution_count": 23,
   "id": "8365808e",
   "metadata": {},
   "outputs": [],
   "source": [
    "for train_index, test_index in kfold.split(scaled_X, Test_df):\n",
    "    X_train = scaled_X.loc[train_index]\n",
    "    y_train = Test_df.loc[train_index]\n",
    "\n",
    "    X_test = scaled_X.loc[test_index]\n",
    "    y_test = Test_df.loc[test_index]"
   ]
  },
  {
   "cell_type": "markdown",
   "id": "a309fac6",
   "metadata": {},
   "source": [
    "## Models"
   ]
  },
  {
   "cell_type": "markdown",
   "id": "f112fad2",
   "metadata": {},
   "source": [
    "### SVM - Linear"
   ]
  },
  {
   "cell_type": "code",
   "execution_count": 24,
   "id": "2189a3fa",
   "metadata": {},
   "outputs": [
    {
     "name": "stdout",
     "output_type": "stream",
     "text": [
      "--------Fold 0 ------\n",
      " our accuracy on the test set is 0.9646\n",
      "--------Fold 1 ------\n",
      " our accuracy on the test set is 0.9566\n",
      "--------Fold 2 ------\n",
      " our accuracy on the test set is 0.9676\n",
      "--------Fold 3 ------\n",
      " our accuracy on the test set is 0.9672\n",
      "--------Fold 4 ------\n",
      " our accuracy on the test set is 0.9645\n",
      "--------Fold 5 ------\n",
      " our accuracy on the test set is 0.9659\n",
      "--------Fold 6 ------\n",
      " our accuracy on the test set is 0.9641\n",
      "--------Fold 7 ------\n",
      " our accuracy on the test set is 0.9517\n",
      "--------Fold 8 ------\n",
      " our accuracy on the test set is 0.9597\n",
      "--------Fold 9 ------\n",
      " our accuracy on the test set is 0.9614\n"
     ]
    }
   ],
   "source": [
    "from sklearn.svm import SVC\n",
    "from sklearn.model_selection import cross_val_score\n",
    "from sklearn.metrics import accuracy_score, roc_auc_score, f1_score, classification_report\n",
    "\n",
    "fold = 0\n",
    "for train_index, test_index in kfold.split(scaled_X, Test_df):\n",
    "    X_train = scaled_X.loc[train_index]\n",
    "    y_train = Test_df.loc[train_index]\n",
    "\n",
    "    X_test = scaled_X.loc[test_index]\n",
    "    y_test = Test_df.loc[test_index]\n",
    "\n",
    "    model_1 = SVC(kernel='linear')\n",
    "\n",
    "    # Fit Model\n",
    "    SVC_1 = model_1.fit(X_train, y_train)\n",
    "\n",
    "    # Prediction\n",
    "    SVC1_pred = SVC_1.predict(X_test)\n",
    "\n",
    "    acc_SVC1 = accuracy_score(y_test, SVC1_pred)\n",
    "    f1_SVC1 = f1_score(y_test, SVC1_pred, average=None).mean()\n",
    "    recall_SVC1 = recall_score(y_test, SVC1_pred, average=None).mean()\n",
    "    precision_SVC1 = precision_score(y_test, SVC1_pred, average=None).mean()\n",
    "    Classification_report = classification_report(y_test, SVC1_pred)\n",
    "\n",
    "\n",
    "    print(f\"--------Fold {fold} ------\")\n",
    "    print(f\" our accuracy on the test set is {acc_SVC1:0.4f}\")\n",
    "    fold += 1"
   ]
  },
  {
   "cell_type": "code",
   "execution_count": 25,
   "id": "56882efa",
   "metadata": {},
   "outputs": [
    {
     "name": "stdout",
     "output_type": "stream",
     "text": [
      "              precision    recall  f1-score   support\n",
      "\n",
      "           0       0.92      0.92      0.92       305\n",
      "           1       0.99      1.00      1.00      1145\n",
      "           2       0.94      0.95      0.94       684\n",
      "           3       0.95      0.81      0.88       112\n",
      "           4       0.75      0.30      0.43        10\n",
      "\n",
      "    accuracy                           0.96      2256\n",
      "   macro avg       0.91      0.80      0.83      2256\n",
      "weighted avg       0.96      0.96      0.96      2256\n",
      "\n"
     ]
    }
   ],
   "source": [
    "print(Classification_report)"
   ]
  },
  {
   "cell_type": "markdown",
   "id": "ae554dec",
   "metadata": {},
   "source": [
    "### SVM - Cubic"
   ]
  },
  {
   "cell_type": "code",
   "execution_count": 26,
   "id": "3f6ec906",
   "metadata": {},
   "outputs": [
    {
     "name": "stdout",
     "output_type": "stream",
     "text": [
      "--------Fold 0 ------\n",
      " our accuracy on the test set is 0.9765\n",
      "--------Fold 1 ------\n",
      " our accuracy on the test set is 0.9783\n",
      "--------Fold 2 ------\n",
      " our accuracy on the test set is 0.9818\n",
      "--------Fold 3 ------\n",
      " our accuracy on the test set is 0.9805\n",
      "--------Fold 4 ------\n",
      " our accuracy on the test set is 0.9809\n",
      "--------Fold 5 ------\n",
      " our accuracy on the test set is 0.9801\n",
      "--------Fold 6 ------\n",
      " our accuracy on the test set is 0.9840\n",
      "--------Fold 7 ------\n",
      " our accuracy on the test set is 0.9712\n",
      "--------Fold 8 ------\n",
      " our accuracy on the test set is 0.9770\n",
      "--------Fold 9 ------\n",
      " our accuracy on the test set is 0.9778\n"
     ]
    }
   ],
   "source": [
    "fold = 0\n",
    "for train_index, test_index in kfold.split(scaled_X, Test_df):\n",
    "    X_train = scaled_X.loc[train_index]\n",
    "    y_train = Test_df.loc[train_index]\n",
    "\n",
    "    X_test = scaled_X.loc[test_index]\n",
    "    y_test = Test_df.loc[test_index]\n",
    "\n",
    "    model_2 = SVC(kernel='poly', degree=3) # set degree to 3 for cubic polynomial \n",
    "\n",
    "    # Fit Model\n",
    "    SVC_2 = model_2.fit(X_train, y_train)\n",
    "\n",
    "    # Prediction\n",
    "    SVC2_pred = SVC_2.predict(X_test)\n",
    "\n",
    "    acc_SVC2 = accuracy_score(y_test, SVC2_pred)\n",
    "    f1_SVC2 = f1_score(y_test, SVC2_pred, average=None).mean()\n",
    "    recall_SVC2 = recall_score(y_test, SVC2_pred, average=None).mean()\n",
    "    precision_SVC2 = precision_score(y_test, SVC2_pred, average=None).mean()\n",
    "    SVC2_report = classification_report(y_test, SVC2_pred)\n",
    "\n",
    "\n",
    "    print(f\"--------Fold {fold} ------\")\n",
    "    print(f\" our accuracy on the test set is {acc_SVC2:0.4f}\")\n",
    "    fold += 1"
   ]
  },
  {
   "cell_type": "code",
   "execution_count": 27,
   "id": "66dc660b",
   "metadata": {},
   "outputs": [
    {
     "name": "stdout",
     "output_type": "stream",
     "text": [
      "              precision    recall  f1-score   support\n",
      "\n",
      "           0       0.94      0.97      0.95       305\n",
      "           1       0.99      1.00      1.00      1145\n",
      "           2       0.97      0.96      0.97       684\n",
      "           3       0.96      0.93      0.95       112\n",
      "           4       0.75      0.30      0.43        10\n",
      "\n",
      "    accuracy                           0.98      2256\n",
      "   macro avg       0.92      0.83      0.86      2256\n",
      "weighted avg       0.98      0.98      0.98      2256\n",
      "\n"
     ]
    }
   ],
   "source": [
    "print(SVC2_report)"
   ]
  },
  {
   "cell_type": "markdown",
   "id": "d925498c",
   "metadata": {},
   "source": [
    "### SVM - Quadratic "
   ]
  },
  {
   "cell_type": "code",
   "execution_count": 28,
   "id": "f8758d3f",
   "metadata": {},
   "outputs": [
    {
     "name": "stdout",
     "output_type": "stream",
     "text": [
      "--------Fold 0 ------\n",
      " our accuracy on the test set is 0.9774\n",
      "--------Fold 1 ------\n",
      " our accuracy on the test set is 0.9792\n",
      "--------Fold 2 ------\n",
      " our accuracy on the test set is 0.9836\n",
      "--------Fold 3 ------\n",
      " our accuracy on the test set is 0.9823\n",
      "--------Fold 4 ------\n",
      " our accuracy on the test set is 0.9818\n",
      "--------Fold 5 ------\n",
      " our accuracy on the test set is 0.9805\n",
      "--------Fold 6 ------\n",
      " our accuracy on the test set is 0.9832\n",
      "--------Fold 7 ------\n",
      " our accuracy on the test set is 0.9734\n",
      "--------Fold 8 ------\n",
      " our accuracy on the test set is 0.9783\n",
      "--------Fold 9 ------\n",
      " our accuracy on the test set is 0.9814\n"
     ]
    }
   ],
   "source": [
    "fold = 0\n",
    "for train_index, test_index in kfold.split(scaled_X, Test_df):\n",
    "    X_train = scaled_X.loc[train_index]\n",
    "    y_train = Test_df.loc[train_index]\n",
    "\n",
    "    X_test = scaled_X.loc[test_index]\n",
    "    y_test = Test_df.loc[test_index]\n",
    "\n",
    "    model_3 = SVC(kernel='poly', degree=4) # Set degree to 4 for quadratic polynomial \n",
    "\n",
    "    # Fit Model\n",
    "    SVC_3 = model_3.fit(X_train, y_train)\n",
    "\n",
    "    # Prediction\n",
    "    SVC3_pred = SVC_3.predict(X_test)\n",
    "\n",
    "    acc_SVC3 = accuracy_score(y_test, SVC3_pred)\n",
    "    f1_SVC3 = f1_score(y_test, SVC3_pred, average=None).mean()\n",
    "    recall_SVC3 = recall_score(y_test, SVC3_pred, average=None).mean()\n",
    "    precision_SVC3 = precision_score(y_test, SVC3_pred, average=None).mean()\n",
    "    SVC3_report = classification_report(y_test, SVC3_pred)\n",
    "\n",
    "\n",
    "    print(f\"--------Fold {fold} ------\")\n",
    "    print(f\" our accuracy on the test set is {acc_SVC3:0.4f}\")\n",
    "    fold += 1"
   ]
  },
  {
   "cell_type": "code",
   "execution_count": 29,
   "id": "8db3a227",
   "metadata": {},
   "outputs": [
    {
     "name": "stdout",
     "output_type": "stream",
     "text": [
      "              precision    recall  f1-score   support\n",
      "\n",
      "           0       0.95      0.97      0.96       305\n",
      "           1       1.00      1.00      1.00      1145\n",
      "           2       0.97      0.97      0.97       684\n",
      "           3       0.96      0.93      0.95       112\n",
      "           4       0.75      0.30      0.43        10\n",
      "\n",
      "    accuracy                           0.98      2256\n",
      "   macro avg       0.93      0.83      0.86      2256\n",
      "weighted avg       0.98      0.98      0.98      2256\n",
      "\n"
     ]
    }
   ],
   "source": [
    "print(SVC3_report)"
   ]
  },
  {
   "cell_type": "markdown",
   "id": "4b7504f4",
   "metadata": {},
   "source": [
    "### KNN - Fine"
   ]
  },
  {
   "cell_type": "code",
   "execution_count": 30,
   "id": "9b45224d",
   "metadata": {},
   "outputs": [
    {
     "name": "stdout",
     "output_type": "stream",
     "text": [
      "--------Fold 0 ------\n",
      " our accuracy on the test set is 0.9867\n",
      "--------Fold 1 ------\n",
      " our accuracy on the test set is 0.9845\n",
      "--------Fold 2 ------\n",
      " our accuracy on the test set is 0.9894\n",
      "--------Fold 3 ------\n",
      " our accuracy on the test set is 0.9894\n",
      "--------Fold 4 ------\n",
      " our accuracy on the test set is 0.9880\n",
      "--------Fold 5 ------\n",
      " our accuracy on the test set is 0.9863\n",
      "--------Fold 6 ------\n",
      " our accuracy on the test set is 0.9840\n",
      "--------Fold 7 ------\n",
      " our accuracy on the test set is 0.9849\n",
      "--------Fold 8 ------\n",
      " our accuracy on the test set is 0.9849\n",
      "--------Fold 9 ------\n",
      " our accuracy on the test set is 0.9836\n"
     ]
    }
   ],
   "source": [
    "from sklearn.neighbors import KNeighborsClassifier\n",
    "\n",
    "fold= 0\n",
    "for train_index, test_index in kfold.split(scaled_X, Test_df):\n",
    "    X_train = scaled_X.loc[train_index]\n",
    "    y_train = Test_df.loc[train_index]\n",
    "\n",
    "    X_test = scaled_X.loc[test_index]\n",
    "    y_test = Test_df.loc[test_index]\n",
    "    \n",
    "    # Develop Model\n",
    "\n",
    "    model_4 = KNeighborsClassifier(n_neighbors=1)\n",
    "    \n",
    "    # Fit Model\n",
    "    \n",
    "    KNN_1 = model_4.fit(X_train, y_train)\n",
    "    \n",
    "     # Prediction\n",
    "    KNN1_pred = KNN_1.predict(X_test)\n",
    "\n",
    "    acc_KNN1 = accuracy_score(y_test, KNN1_pred)\n",
    "    f1_KNN1 = f1_score(y_test, KNN1_pred, average=None).mean()\n",
    "    recall_KNN1 = recall_score(y_test, KNN1_pred, average=None).mean()\n",
    "    precision_KNN1 = precision_score(y_test, KNN1_pred, average=None).mean()\n",
    "    KNN1_report = classification_report(y_test, KNN1_pred)\n",
    "\n",
    "\n",
    "    print(f\"--------Fold {fold} ------\")\n",
    "    print(f\" our accuracy on the test set is {acc_KNN1:0.4f}\")\n",
    "    fold += 1"
   ]
  },
  {
   "cell_type": "code",
   "execution_count": 31,
   "id": "dbf1c6e3",
   "metadata": {},
   "outputs": [
    {
     "name": "stdout",
     "output_type": "stream",
     "text": [
      "              precision    recall  f1-score   support\n",
      "\n",
      "           0       0.96      0.97      0.97       305\n",
      "           1       1.00      1.00      1.00      1145\n",
      "           2       0.98      0.97      0.98       684\n",
      "           3       0.97      0.96      0.96       112\n",
      "           4       0.57      0.40      0.47        10\n",
      "\n",
      "    accuracy                           0.98      2256\n",
      "   macro avg       0.90      0.86      0.88      2256\n",
      "weighted avg       0.98      0.98      0.98      2256\n",
      "\n"
     ]
    }
   ],
   "source": [
    "print(KNN1_report)"
   ]
  },
  {
   "cell_type": "markdown",
   "id": "649ce945",
   "metadata": {},
   "source": [
    "### KNN - Medium"
   ]
  },
  {
   "cell_type": "code",
   "execution_count": 32,
   "id": "cb36913b",
   "metadata": {},
   "outputs": [
    {
     "name": "stdout",
     "output_type": "stream",
     "text": [
      "--------Fold 0 ------\n",
      " our accuracy on the test set is 0.9805\n",
      "--------Fold 1 ------\n",
      " our accuracy on the test set is 0.9792\n",
      "--------Fold 2 ------\n",
      " our accuracy on the test set is 0.9849\n",
      "--------Fold 3 ------\n",
      " our accuracy on the test set is 0.9854\n",
      "--------Fold 4 ------\n",
      " our accuracy on the test set is 0.9832\n",
      "--------Fold 5 ------\n",
      " our accuracy on the test set is 0.9787\n",
      "--------Fold 6 ------\n",
      " our accuracy on the test set is 0.9787\n",
      "--------Fold 7 ------\n",
      " our accuracy on the test set is 0.9801\n",
      "--------Fold 8 ------\n",
      " our accuracy on the test set is 0.9774\n",
      "--------Fold 9 ------\n",
      " our accuracy on the test set is 0.9752\n"
     ]
    }
   ],
   "source": [
    "fold= 0\n",
    "for train_index, test_index in kfold.split(scaled_X, Test_df):\n",
    "    X_train = scaled_X.loc[train_index]\n",
    "    y_train = Test_df.loc[train_index]\n",
    "\n",
    "    X_test = scaled_X.loc[test_index]\n",
    "    y_test = Test_df.loc[test_index]\n",
    "    \n",
    "    # Develop Model\n",
    "\n",
    "    model_5 = KNeighborsClassifier(n_neighbors=10)\n",
    "    \n",
    "    # Fit Model\n",
    "    \n",
    "    KNN_2 = model_5.fit(X_train, y_train)\n",
    "    \n",
    "     # Prediction\n",
    "    KNN2_pred = KNN_2.predict(X_test)\n",
    "\n",
    "    acc_KNN2 = accuracy_score(y_test, KNN2_pred)\n",
    "    f1_KNN2 = f1_score(y_test, KNN2_pred, average=None).mean()\n",
    "    recall_KNN2 = recall_score(y_test, KNN2_pred, average=None).mean()\n",
    "    precision_KNN2 = precision_score(y_test, KNN2_pred, average=None).mean()\n",
    "    KNN2_report = classification_report(y_test, KNN2_pred)\n",
    "\n",
    "\n",
    "    print(f\"--------Fold {fold} ------\")\n",
    "    print(f\" our accuracy on the test set is {acc_KNN2:0.4f}\")\n",
    "    fold += 1"
   ]
  },
  {
   "cell_type": "code",
   "execution_count": 33,
   "id": "c2d7ecd9",
   "metadata": {},
   "outputs": [
    {
     "name": "stdout",
     "output_type": "stream",
     "text": [
      "              precision    recall  f1-score   support\n",
      "\n",
      "           0       0.91      0.97      0.94       305\n",
      "           1       0.99      1.00      1.00      1145\n",
      "           2       0.98      0.95      0.96       684\n",
      "           3       0.94      0.94      0.94       112\n",
      "           4       1.00      0.30      0.46        10\n",
      "\n",
      "    accuracy                           0.98      2256\n",
      "   macro avg       0.96      0.83      0.86      2256\n",
      "weighted avg       0.98      0.98      0.97      2256\n",
      "\n"
     ]
    }
   ],
   "source": [
    "print(KNN2_report)"
   ]
  },
  {
   "cell_type": "markdown",
   "id": "1d125739",
   "metadata": {},
   "source": [
    "### KNN - Coarse"
   ]
  },
  {
   "cell_type": "code",
   "execution_count": 34,
   "id": "df360ce0",
   "metadata": {},
   "outputs": [
    {
     "name": "stdout",
     "output_type": "stream",
     "text": [
      "--------Fold 0 ------\n",
      " our accuracy on the test set is 0.9805\n",
      "--------Fold 1 ------\n",
      " our accuracy on the test set is 0.9792\n",
      "--------Fold 2 ------\n",
      " our accuracy on the test set is 0.9849\n",
      "--------Fold 3 ------\n",
      " our accuracy on the test set is 0.9854\n",
      "--------Fold 4 ------\n",
      " our accuracy on the test set is 0.9832\n",
      "--------Fold 5 ------\n",
      " our accuracy on the test set is 0.9787\n",
      "--------Fold 6 ------\n",
      " our accuracy on the test set is 0.9787\n",
      "--------Fold 7 ------\n",
      " our accuracy on the test set is 0.9801\n",
      "--------Fold 8 ------\n",
      " our accuracy on the test set is 0.9774\n",
      "--------Fold 9 ------\n",
      " our accuracy on the test set is 0.9752\n"
     ]
    }
   ],
   "source": [
    "fold= 0\n",
    "for train_index, test_index in kfold.split(scaled_X, Test_df):\n",
    "    X_train = scaled_X.loc[train_index]\n",
    "    y_train = Test_df.loc[train_index]\n",
    "\n",
    "    X_test = scaled_X.loc[test_index]\n",
    "    y_test = Test_df.loc[test_index]\n",
    "    \n",
    "    # Develop Model\n",
    "\n",
    "    model_6 = KNeighborsClassifier(n_neighbors=10, metric='euclidean', p=4)\n",
    "    \n",
    "    # Fit Model\n",
    "    \n",
    "    KNN_3 = model_6.fit(X_train, y_train)\n",
    "    \n",
    "     # Prediction\n",
    "    KNN3_pred = KNN_3.predict(X_test)\n",
    "\n",
    "    acc_KNN3 = accuracy_score(y_test, KNN3_pred)\n",
    "    f1_KNN3 = f1_score(y_test, KNN3_pred, average=None).mean()\n",
    "    recall_KNN3 = recall_score(y_test, KNN3_pred, average=None).mean()\n",
    "    precision_KNN3 = precision_score(y_test, KNN3_pred, average=None).mean()\n",
    "    KNN3_report = classification_report(y_test, KNN3_pred)\n",
    "\n",
    "\n",
    "    print(f\"--------Fold {fold} ------\")\n",
    "    print(f\" our accuracy on the test set is {acc_KNN3:0.4f}\")\n",
    "    fold += 1"
   ]
  },
  {
   "cell_type": "code",
   "execution_count": 35,
   "id": "d555ff8f",
   "metadata": {},
   "outputs": [
    {
     "name": "stdout",
     "output_type": "stream",
     "text": [
      "              precision    recall  f1-score   support\n",
      "\n",
      "           0       0.91      0.97      0.94       305\n",
      "           1       0.99      1.00      1.00      1145\n",
      "           2       0.98      0.95      0.96       684\n",
      "           3       0.94      0.94      0.94       112\n",
      "           4       1.00      0.30      0.46        10\n",
      "\n",
      "    accuracy                           0.98      2256\n",
      "   macro avg       0.96      0.83      0.86      2256\n",
      "weighted avg       0.98      0.98      0.97      2256\n",
      "\n"
     ]
    }
   ],
   "source": [
    "print(KNN3_report)"
   ]
  },
  {
   "cell_type": "markdown",
   "id": "f717b3f1",
   "metadata": {},
   "source": [
    "### Decision Tree - Fine"
   ]
  },
  {
   "cell_type": "code",
   "execution_count": 36,
   "id": "339bc9e6",
   "metadata": {},
   "outputs": [
    {
     "name": "stdout",
     "output_type": "stream",
     "text": [
      "--------Fold 0 ------\n",
      " our accuracy on the test set is 0.9220\n",
      "--------Fold 1 ------\n",
      " our accuracy on the test set is 0.9220\n",
      "--------Fold 2 ------\n",
      " our accuracy on the test set is 0.9309\n",
      "--------Fold 3 ------\n",
      " our accuracy on the test set is 0.9304\n",
      "--------Fold 4 ------\n",
      " our accuracy on the test set is 0.9260\n",
      "--------Fold 5 ------\n",
      " our accuracy on the test set is 0.9220\n",
      "--------Fold 6 ------\n",
      " our accuracy on the test set is 0.9357\n",
      "--------Fold 7 ------\n",
      " our accuracy on the test set is 0.9277\n",
      "--------Fold 8 ------\n",
      " our accuracy on the test set is 0.9348\n",
      "--------Fold 9 ------\n",
      " our accuracy on the test set is 0.9229\n"
     ]
    }
   ],
   "source": [
    "from sklearn.tree import DecisionTreeClassifier\n",
    "\n",
    "fold= 0\n",
    "for train_index, test_index in kfold.split(scaled_X, Test_df):\n",
    "    X_train = scaled_X.loc[train_index]\n",
    "    y_train = Test_df.loc[train_index]\n",
    "\n",
    "    X_test = scaled_X.loc[test_index]\n",
    "    y_test = Test_df.loc[test_index]\n",
    "    \n",
    "    # Develop Model\n",
    "\n",
    "    model_7 = DecisionTreeClassifier(max_depth=4)\n",
    "    \n",
    "    # Fit Model\n",
    "    \n",
    "    DT_1 = model_7.fit(X_train, y_train)\n",
    "    \n",
    "     # Prediction\n",
    "    DT1_pred = DT_1.predict(X_test)\n",
    "\n",
    "    acc_DT1 = accuracy_score(y_test, DT1_pred)\n",
    "    f1_DT1 = f1_score(y_test, DT1_pred, average=None).mean()\n",
    "    recall_DT1 = recall_score(y_test, DT1_pred, average=None).mean()\n",
    "    precision_DT1 = precision_score(y_test, DT1_pred, average=None).mean()\n",
    "    DT1_report = classification_report(y_test, DT1_pred)\n",
    "\n",
    "\n",
    "    print(f\"--------Fold {fold} ------\")\n",
    "    print(f\" our accuracy on the test set is {acc_DT1:0.4f}\")\n",
    "    fold += 1"
   ]
  },
  {
   "cell_type": "code",
   "execution_count": 37,
   "id": "f874ae3b",
   "metadata": {},
   "outputs": [
    {
     "name": "stdout",
     "output_type": "stream",
     "text": [
      "              precision    recall  f1-score   support\n",
      "\n",
      "           0       0.77      0.96      0.85       305\n",
      "           1       0.97      1.00      0.98      1145\n",
      "           2       0.93      0.86      0.89       684\n",
      "           3       0.94      0.57      0.71       112\n",
      "           4       0.00      0.00      0.00        10\n",
      "\n",
      "    accuracy                           0.92      2256\n",
      "   macro avg       0.72      0.68      0.69      2256\n",
      "weighted avg       0.92      0.92      0.92      2256\n",
      "\n"
     ]
    }
   ],
   "source": [
    "print(DT1_report)"
   ]
  },
  {
   "cell_type": "markdown",
   "id": "ef2210a7",
   "metadata": {},
   "source": [
    "### Decision Tree - Medium"
   ]
  },
  {
   "cell_type": "code",
   "execution_count": 38,
   "id": "f60850b4",
   "metadata": {},
   "outputs": [
    {
     "name": "stdout",
     "output_type": "stream",
     "text": [
      "--------Fold 0 ------\n",
      " our accuracy on the test set is 0.9880\n",
      "--------Fold 1 ------\n",
      " our accuracy on the test set is 0.9916\n",
      "--------Fold 2 ------\n",
      " our accuracy on the test set is 0.9938\n",
      "--------Fold 3 ------\n",
      " our accuracy on the test set is 0.9849\n",
      "--------Fold 4 ------\n",
      " our accuracy on the test set is 0.9871\n",
      "--------Fold 5 ------\n",
      " our accuracy on the test set is 0.9894\n",
      "--------Fold 6 ------\n",
      " our accuracy on the test set is 0.9951\n",
      "--------Fold 7 ------\n",
      " our accuracy on the test set is 0.9854\n",
      "--------Fold 8 ------\n",
      " our accuracy on the test set is 0.9880\n",
      "--------Fold 9 ------\n",
      " our accuracy on the test set is 0.9840\n"
     ]
    }
   ],
   "source": [
    "fold= 0\n",
    "for train_index, test_index in kfold.split(scaled_X, Test_df):\n",
    "    X_train = scaled_X.loc[train_index]\n",
    "    y_train = Test_df.loc[train_index]\n",
    "\n",
    "    X_test = scaled_X.loc[test_index]\n",
    "    y_test = Test_df.loc[test_index]\n",
    "    \n",
    "    # Develop Model\n",
    "\n",
    "    model_8 = DecisionTreeClassifier(max_depth=20)\n",
    "    \n",
    "    # Fit Model\n",
    "    \n",
    "    DT_2 = model_8.fit(X_train, y_train)\n",
    "    \n",
    "     # Prediction\n",
    "    DT2_pred = DT_2.predict(X_test)\n",
    "\n",
    "    acc_DT2 = accuracy_score(y_test, DT2_pred)\n",
    "    f1_DT2 = f1_score(y_test, DT2_pred, average=None).mean()\n",
    "    recall_DT2 = recall_score(y_test, DT2_pred, average=None).mean()\n",
    "    precision_DT2 = precision_score(y_test, DT2_pred, average=None).mean()\n",
    "    DT2_report = classification_report(y_test, DT2_pred)\n",
    "\n",
    "\n",
    "    print(f\"--------Fold {fold} ------\")\n",
    "    print(f\" our accuracy on the test set is {acc_DT2:0.4f}\")\n",
    "    fold += 1"
   ]
  },
  {
   "cell_type": "code",
   "execution_count": 39,
   "id": "60668c14",
   "metadata": {},
   "outputs": [
    {
     "name": "stdout",
     "output_type": "stream",
     "text": [
      "              precision    recall  f1-score   support\n",
      "\n",
      "           0       0.96      0.97      0.97       305\n",
      "           1       0.99      1.00      1.00      1145\n",
      "           2       0.99      0.98      0.98       684\n",
      "           3       0.95      0.94      0.95       112\n",
      "           4       0.50      0.40      0.44        10\n",
      "\n",
      "    accuracy                           0.98      2256\n",
      "   macro avg       0.88      0.86      0.87      2256\n",
      "weighted avg       0.98      0.98      0.98      2256\n",
      "\n"
     ]
    }
   ],
   "source": [
    "print(DT2_report)"
   ]
  },
  {
   "cell_type": "code",
   "execution_count": 40,
   "id": "097a7e4c",
   "metadata": {},
   "outputs": [
    {
     "data": {
      "text/plain": [
       "<Figure size 2400x1800 with 0 Axes>"
      ]
     },
     "metadata": {},
     "output_type": "display_data"
    },
    {
     "data": {
      "image/png": "[encoded data removed]",
      "text/plain": [
       "<Figure size 432x288 with 1 Axes>"
      ]
     },
     "metadata": {
      "needs_background": "light"
     },
     "output_type": "display_data"
    }
   ],
   "source": [
    "acc = [acc_SVC1, acc_SVC2, acc_SVC3, acc_KNN1, acc_KNN2, acc_KNN3, acc_DT1, acc_DT2]\n",
    "f1 = [f1_SVC1, f1_SVC2, f1_SVC3, f1_KNN1, f1_KNN2, f1_KNN3, f1_DT1, f1_DT2]\n",
    "recall = [recall_SVC1, recall_SVC2, recall_SVC3, recall_KNN1, recall_KNN2, recall_KNN3, recall_DT1, recall_DT2]\n",
    "precision = [precision_SVC1, precision_SVC2, precision_SVC3, precision_KNN1, precision_KNN2, precision_KNN3, precision_DT1, precision_DT2]\n",
    "\n",
    "labels = ['SVC1', 'SVC2', 'SVC3', 'KNN1', 'KNN2', 'KNN3', 'DT1', 'DT2']\n",
    "\n",
    "x = np.arange(len(acc)) # Label locations\n",
    "width = 0.40 # Width of the bars in the graph\n",
    "\n",
    "plt.figure(figsize=(8,6), dpi=300)\n",
    "\n",
    "fig, ax = plt.subplots()\n",
    "rects1 = ax.bar(x - width/2, acc, width, label='accuracy')\n",
    "\n",
    "\n",
    "# Add some text for labels, title and custom x-axis tick labels, etc.\n",
    "ax.set_ylabel('Accuracy')\n",
    "ax.set_xlabel('Methods')\n",
    "ax.set_title('Comparison')\n",
    "ax.bar_label(rects1, rotation = 90, label_type='center')\n",
    "ax.set_xticks(x)\n",
    "ax.set_xticklabels(labels)\n",
    "ax.set_ylim(top = 1)\n",
    "ax.legend( loc='best')\n",
    "\n",
    "plt.show()"
   ]
  },
  {
   "cell_type": "code",
   "execution_count": 41,
   "id": "90248a9b",
   "metadata": {},
   "outputs": [
    {
     "data": {
      "text/plain": [
       "<Figure size 7000x3500 with 0 Axes>"
      ]
     },
     "metadata": {},
     "output_type": "display_data"
    },
    {
     "data": {
      "image/png": "[encoded data removed]",
      "text/plain": [
       "<Figure size 432x288 with 1 Axes>"
      ]
     },
     "metadata": {
      "needs_background": "light"
     },
     "output_type": "display_data"
    }
   ],
   "source": [
    "x = np.arange(len(acc)) # Label locations\n",
    "width = 0.40 # Width of the bars in the graph\n",
    "\n",
    "plt.figure(figsize=(20,10), dpi=350)\n",
    "\n",
    "fig, ax = plt.subplots()\n",
    "rects2 = ax.bar(x - width/2, f1, width, label='f1')\n",
    "\n",
    "\n",
    "# Add some text for labels, title and custom x-axis tick labels, etc.\n",
    "ax.set_ylabel('F1-Score')\n",
    "ax.set_xlabel('Methods')\n",
    "ax.set_title('Comparison')\n",
    "ax.bar_label(rects1, rotation = 90, label_type='center')\n",
    "ax.set_xticks(x)\n",
    "ax.set_xticklabels(labels)\n",
    "ax.set_ylim(top = 1)\n",
    "ax.legend( loc='best')\n",
    "\n",
    "plt.show()"
   ]
  },
  {
   "cell_type": "code",
   "execution_count": 42,
   "id": "eb7b4877",
   "metadata": {},
   "outputs": [
    {
     "data": {
      "text/plain": [
       "<Figure size 1500x900 with 0 Axes>"
      ]
     },
     "metadata": {},
     "output_type": "display_data"
    },
    {
     "data": {
      "image/png": "[encoded data removed]",
      "text/plain": [
       "<Figure size 432x288 with 1 Axes>"
      ]
     },
     "metadata": {
      "needs_background": "light"
     },
     "output_type": "display_data"
    }
   ],
   "source": [
    "x = np.arange(len(acc)) # Label locations\n",
    "width = 0.40 # Width of the bars in the graph\n",
    "\n",
    "plt.figure(figsize=(10,6), dpi=150)\n",
    "\n",
    "fig, ax = plt.subplots()\n",
    "rects3 = ax.bar(x - width/2, recall, width, label='recall')\n",
    "\n",
    "\n",
    "# Add some text for labels, title and custom x-axis tick labels, etc.\n",
    "ax.set_ylabel('Recall-Score')\n",
    "ax.set_xlabel('Methods')\n",
    "ax.set_title('Comparison')\n",
    "ax.bar_label(rects1, rotation = 90, label_type='center')\n",
    "ax.set_xticks(x)\n",
    "ax.set_xticklabels(labels)\n",
    "ax.set_ylim(top = 1)\n",
    "ax.legend( loc='best')\n",
    "\n",
    "plt.show()"
   ]
  },
  {
   "cell_type": "code",
   "execution_count": 43,
   "id": "f6ec96b2",
   "metadata": {},
   "outputs": [
    {
     "data": {
      "text/plain": [
       "<Figure size 1500x900 with 0 Axes>"
      ]
     },
     "metadata": {},
     "output_type": "display_data"
    },
    {
     "data": {
      "image/png": "[encoded data removed]",
      "text/plain": [
       "<Figure size 432x288 with 1 Axes>"
      ]
     },
     "metadata": {
      "needs_background": "light"
     },
     "output_type": "display_data"
    }
   ],
   "source": [
    "x = np.arange(len(acc)) # Label locations\n",
    "width = 0.40 # Width of the bars in the graph\n",
    "\n",
    "plt.figure(figsize=(10,6), dpi=150)\n",
    "\n",
    "fig, ax = plt.subplots()\n",
    "rects4 = ax.bar(x - width/2, precision, width, label='precision')\n",
    "\n",
    "\n",
    "# Add some text for labels, title and custom x-axis tick labels, etc.\n",
    "ax.set_ylabel('Precision')\n",
    "ax.set_xlabel('Methods')\n",
    "ax.set_title('Comparison')\n",
    "ax.bar_label(rects1, rotation = 90, label_type='center')\n",
    "ax.set_xticks(x)\n",
    "ax.set_xticklabels(labels)\n",
    "ax.set_ylim(top = 1)\n",
    "ax.legend( loc='best')\n",
    "\n",
    "plt.show()"
   ]
  },
  {
   "cell_type": "code",
   "execution_count": 44,
   "id": "799fb946",
   "metadata": {},
   "outputs": [],
   "source": [
    "acc = [acc_SVC1, acc_SVC2, acc_SVC3, acc_KNN1, acc_KNN2, acc_KNN3, acc_DT1, acc_DT2]\n",
    "f1 = [f1_SVC1, f1_SVC2, f1_SVC3, f1_KNN1, f1_KNN2, f1_KNN3, f1_DT1, f1_DT2]\n",
    "recall = [recall_SVC1, recall_SVC2, recall_SVC3, recall_KNN1, recall_KNN2, recall_KNN3, recall_DT1, recall_DT2]\n",
    "precision = [precision_SVC1, precision_SVC2, precision_SVC3, precision_KNN1, precision_KNN2, precision_KNN3, precision_DT1, precision_DT2]\n",
    "\n",
    "labels = ['SVC1', 'SVC2', 'SVC3', 'KNN1', 'KNN2', 'KNN3', 'DT1', 'DT2']"
   ]
  },
  {
   "cell_type": "code",
   "execution_count": 45,
   "id": "9bcd4004",
   "metadata": {},
   "outputs": [],
   "source": [
    "Accuracy_Table = pd.DataFrame([acc, f1, recall, precision], columns=labels, index=['accuracy', 'F1', 'recall', 'precision'])"
   ]
  },
  {
   "cell_type": "code",
   "execution_count": 46,
   "id": "db848a64",
   "metadata": {},
   "outputs": [
    {
     "data": {
      "text/html": [
       "<div>\n",
       "<style scoped>\n",
       "    .dataframe tbody tr th:only-of-type {\n",
       "        vertical-align: middle;\n",
       "    }\n",
       "\n",
       "    .dataframe tbody tr th {\n",
       "        vertical-align: top;\n",
       "    }\n",
       "\n",
       "    .dataframe thead th {\n",
       "        text-align: right;\n",
       "    }\n",
       "</style>\n",
       "<table border=\"1\" class=\"dataframe\">\n",
       "  <thead>\n",
       "    <tr style=\"text-align: right;\">\n",
       "      <th></th>\n",
       "      <th>SVC1</th>\n",
       "      <th>SVC2</th>\n",
       "      <th>SVC3</th>\n",
       "      <th>KNN1</th>\n",
       "      <th>KNN2</th>\n",
       "      <th>KNN3</th>\n",
       "      <th>DT1</th>\n",
       "      <th>DT2</th>\n",
       "    </tr>\n",
       "  </thead>\n",
       "  <tbody>\n",
       "    <tr>\n",
       "      <th>accuracy</th>\n",
       "      <td>0.961436</td>\n",
       "      <td>0.977837</td>\n",
       "      <td>0.981383</td>\n",
       "      <td>0.983599</td>\n",
       "      <td>0.975177</td>\n",
       "      <td>0.975177</td>\n",
       "      <td>0.922872</td>\n",
       "      <td>0.984043</td>\n",
       "    </tr>\n",
       "    <tr>\n",
       "      <th>F1</th>\n",
       "      <td>0.831894</td>\n",
       "      <td>0.858310</td>\n",
       "      <td>0.861401</td>\n",
       "      <td>0.875268</td>\n",
       "      <td>0.860409</td>\n",
       "      <td>0.860409</td>\n",
       "      <td>0.687521</td>\n",
       "      <td>0.867807</td>\n",
       "    </tr>\n",
       "    <tr>\n",
       "      <th>recall</th>\n",
       "      <td>0.796528</td>\n",
       "      <td>0.831847</td>\n",
       "      <td>0.834549</td>\n",
       "      <td>0.860562</td>\n",
       "      <td>0.831949</td>\n",
       "      <td>0.831949</td>\n",
       "      <td>0.676233</td>\n",
       "      <td>0.857986</td>\n",
       "    </tr>\n",
       "    <tr>\n",
       "      <th>precision</th>\n",
       "      <td>0.907945</td>\n",
       "      <td>0.923557</td>\n",
       "      <td>0.926987</td>\n",
       "      <td>0.896077</td>\n",
       "      <td>0.964669</td>\n",
       "      <td>0.964669</td>\n",
       "      <td>0.721764</td>\n",
       "      <td>0.879899</td>\n",
       "    </tr>\n",
       "  </tbody>\n",
       "</table>\n",
       "</div>"
      ],
      "text/plain": [
       "               SVC1      SVC2      SVC3      KNN1      KNN2      KNN3  \\\n",
       "accuracy   0.961436  0.977837  0.981383  0.983599  0.975177  0.975177   \n",
       "F1         0.831894  0.858310  0.861401  0.875268  0.860409  0.860409   \n",
       "recall     0.796528  0.831847  0.834549  0.860562  0.831949  0.831949   \n",
       "precision  0.907945  0.923557  0.926987  0.896077  0.964669  0.964669   \n",
       "\n",
       "                DT1       DT2  \n",
       "accuracy   0.922872  0.984043  \n",
       "F1         0.687521  0.867807  \n",
       "recall     0.676233  0.857986  \n",
       "precision  0.721764  0.879899  "
      ]
     },
     "execution_count": 46,
     "metadata": {},
     "output_type": "execute_result"
    }
   ],
   "source": [
    "Accuracy_Table"
   ]
  },
  {
   "cell_type": "markdown",
   "id": "098fc11a",
   "metadata": {},
   "source": [
    "## Question 5"
   ]
  },
  {
   "cell_type": "markdown",
   "id": "ce4e63a5",
   "metadata": {},
   "source": [
    "### (i)\tMotivation behind the proposed solution\n",
    "\n",
    "In this solution I use a random forest classifer to select key features within the NSL-KDD dataframe. By using 'Gini impurity' we can see how a feature is important to the classification of our label class. After deciding such features, we develop a model with a trimmed down dataset (using only those selected features) and apply it to a Support Vector Machine classifier."
   ]
  },
  {
   "cell_type": "markdown",
   "id": "83935d4d",
   "metadata": {},
   "source": [
    "### (ii)\tHow the proposed solution is different from existing ones.\n",
    "\n",
    "While things like sampling, mapping and the basic algorithm that the data will be modelled on are the same. I use a normalisation scale instead of min-max, and I use a GridSearchCV to search for the best parameters to fit the model. I use a standard train/test/split instead of a 10 K fold as detailed in Question 4. "
   ]
  },
  {
   "cell_type": "code",
   "execution_count": 47,
   "id": "c79102a5",
   "metadata": {},
   "outputs": [],
   "source": [
    "KDD_Q5 = pd.read_csv(r'E:/Deakin/SIT720/Assessment 4/Intrusion_detection_NSL_KDD.csv')"
   ]
  },
  {
   "cell_type": "markdown",
   "id": "38f1bf1d",
   "metadata": {},
   "source": [
    "#### Mapping"
   ]
  },
  {
   "cell_type": "code",
   "execution_count": 48,
   "id": "bf16134e",
   "metadata": {},
   "outputs": [],
   "source": [
    "# Define lists which map the different attack types to four types of attack\n",
    "dos = ['Back', 'land', 'neptune', 'pod', 'smurf', 'teardrop']\n",
    "u2r = ['buffer_overflow', 'loadmodule', 'perl', 'rootkit']\n",
    "probe = ['ipsweep', 'nmap', 'portsweep', 'satan']\n",
    "r2l = ['ftp_write', 'guess_passwd', 'imap', 'multihop', 'phf','spy', 'warezclient', 'warezmaster']\n",
    "\n",
    "# Define a function which will be applied to the attack types\n",
    "def encode_attack(vec):\n",
    "    if vec in dos:\n",
    "        return \"dos\"\n",
    "    elif vec in u2r:\n",
    "        return \"u2r\"\n",
    "    elif vec in probe:\n",
    "        return \"probe\"\n",
    "    elif vec in r2l:\n",
    "        return \"R2L\"\n",
    "    elif vec == 'normal':\n",
    "        return 'normal'\n",
    "    else:\n",
    "        pass\n",
    "\n",
    "# Create a new variable called 'Target' which maps different attack types to the four labels: dos, u2r, probe, r2l\n",
    "\n",
    "KDD_Q5['label'] = KDD_Q5['attack_type'].apply(encode_attack) \n",
    "KDD_Q5 = KDD_Q5.drop('attack_type', axis=1)"
   ]
  },
  {
   "cell_type": "code",
   "execution_count": 49,
   "id": "dee111df",
   "metadata": {},
   "outputs": [
    {
     "data": {
      "text/html": [
       "<div>\n",
       "<style scoped>\n",
       "    .dataframe tbody tr th:only-of-type {\n",
       "        vertical-align: middle;\n",
       "    }\n",
       "\n",
       "    .dataframe tbody tr th {\n",
       "        vertical-align: top;\n",
       "    }\n",
       "\n",
       "    .dataframe thead th {\n",
       "        text-align: right;\n",
       "    }\n",
       "</style>\n",
       "<table border=\"1\" class=\"dataframe\">\n",
       "  <thead>\n",
       "    <tr style=\"text-align: right;\">\n",
       "      <th></th>\n",
       "      <th>duration</th>\n",
       "      <th>protocol_type</th>\n",
       "      <th>service</th>\n",
       "      <th>flag</th>\n",
       "      <th>src_bytes</th>\n",
       "      <th>dst_bytes</th>\n",
       "      <th>land</th>\n",
       "      <th>wrong_fragment</th>\n",
       "      <th>urgent</th>\n",
       "      <th>hot</th>\n",
       "      <th>...</th>\n",
       "      <th>dst_host_srv_count</th>\n",
       "      <th>dst_host_same_srv_rate</th>\n",
       "      <th>dst_host_diff_srv_rate</th>\n",
       "      <th>dst_host_same_src_port_rate</th>\n",
       "      <th>dst_host_srv_diff_host_rate</th>\n",
       "      <th>dst_host_serror_rate</th>\n",
       "      <th>dst_host_srv_serror_rate</th>\n",
       "      <th>dst_host_rerror_rate</th>\n",
       "      <th>dst_host_srv_rerror_rate</th>\n",
       "      <th>label</th>\n",
       "    </tr>\n",
       "  </thead>\n",
       "  <tbody>\n",
       "    <tr>\n",
       "      <th>0</th>\n",
       "      <td>0</td>\n",
       "      <td>udp</td>\n",
       "      <td>other</td>\n",
       "      <td>SF</td>\n",
       "      <td>146</td>\n",
       "      <td>0</td>\n",
       "      <td>0</td>\n",
       "      <td>0</td>\n",
       "      <td>0</td>\n",
       "      <td>0</td>\n",
       "      <td>...</td>\n",
       "      <td>1</td>\n",
       "      <td>0.00</td>\n",
       "      <td>0.60</td>\n",
       "      <td>0.88</td>\n",
       "      <td>0.00</td>\n",
       "      <td>0.00</td>\n",
       "      <td>0.00</td>\n",
       "      <td>0.00</td>\n",
       "      <td>0.00</td>\n",
       "      <td>normal</td>\n",
       "    </tr>\n",
       "    <tr>\n",
       "      <th>1</th>\n",
       "      <td>0</td>\n",
       "      <td>tcp</td>\n",
       "      <td>private</td>\n",
       "      <td>S0</td>\n",
       "      <td>0</td>\n",
       "      <td>0</td>\n",
       "      <td>0</td>\n",
       "      <td>0</td>\n",
       "      <td>0</td>\n",
       "      <td>0</td>\n",
       "      <td>...</td>\n",
       "      <td>26</td>\n",
       "      <td>0.10</td>\n",
       "      <td>0.05</td>\n",
       "      <td>0.00</td>\n",
       "      <td>0.00</td>\n",
       "      <td>1.00</td>\n",
       "      <td>1.00</td>\n",
       "      <td>0.00</td>\n",
       "      <td>0.00</td>\n",
       "      <td>dos</td>\n",
       "    </tr>\n",
       "    <tr>\n",
       "      <th>2</th>\n",
       "      <td>0</td>\n",
       "      <td>tcp</td>\n",
       "      <td>http</td>\n",
       "      <td>SF</td>\n",
       "      <td>232</td>\n",
       "      <td>8153</td>\n",
       "      <td>0</td>\n",
       "      <td>0</td>\n",
       "      <td>0</td>\n",
       "      <td>0</td>\n",
       "      <td>...</td>\n",
       "      <td>255</td>\n",
       "      <td>1.00</td>\n",
       "      <td>0.00</td>\n",
       "      <td>0.03</td>\n",
       "      <td>0.04</td>\n",
       "      <td>0.03</td>\n",
       "      <td>0.01</td>\n",
       "      <td>0.00</td>\n",
       "      <td>0.01</td>\n",
       "      <td>normal</td>\n",
       "    </tr>\n",
       "    <tr>\n",
       "      <th>3</th>\n",
       "      <td>0</td>\n",
       "      <td>tcp</td>\n",
       "      <td>http</td>\n",
       "      <td>SF</td>\n",
       "      <td>199</td>\n",
       "      <td>420</td>\n",
       "      <td>0</td>\n",
       "      <td>0</td>\n",
       "      <td>0</td>\n",
       "      <td>0</td>\n",
       "      <td>...</td>\n",
       "      <td>255</td>\n",
       "      <td>1.00</td>\n",
       "      <td>0.00</td>\n",
       "      <td>0.00</td>\n",
       "      <td>0.00</td>\n",
       "      <td>0.00</td>\n",
       "      <td>0.00</td>\n",
       "      <td>0.00</td>\n",
       "      <td>0.00</td>\n",
       "      <td>normal</td>\n",
       "    </tr>\n",
       "    <tr>\n",
       "      <th>4</th>\n",
       "      <td>0</td>\n",
       "      <td>tcp</td>\n",
       "      <td>private</td>\n",
       "      <td>REJ</td>\n",
       "      <td>0</td>\n",
       "      <td>0</td>\n",
       "      <td>0</td>\n",
       "      <td>0</td>\n",
       "      <td>0</td>\n",
       "      <td>0</td>\n",
       "      <td>...</td>\n",
       "      <td>19</td>\n",
       "      <td>0.07</td>\n",
       "      <td>0.07</td>\n",
       "      <td>0.00</td>\n",
       "      <td>0.00</td>\n",
       "      <td>0.00</td>\n",
       "      <td>0.00</td>\n",
       "      <td>1.00</td>\n",
       "      <td>1.00</td>\n",
       "      <td>dos</td>\n",
       "    </tr>\n",
       "    <tr>\n",
       "      <th>...</th>\n",
       "      <td>...</td>\n",
       "      <td>...</td>\n",
       "      <td>...</td>\n",
       "      <td>...</td>\n",
       "      <td>...</td>\n",
       "      <td>...</td>\n",
       "      <td>...</td>\n",
       "      <td>...</td>\n",
       "      <td>...</td>\n",
       "      <td>...</td>\n",
       "      <td>...</td>\n",
       "      <td>...</td>\n",
       "      <td>...</td>\n",
       "      <td>...</td>\n",
       "      <td>...</td>\n",
       "      <td>...</td>\n",
       "      <td>...</td>\n",
       "      <td>...</td>\n",
       "      <td>...</td>\n",
       "      <td>...</td>\n",
       "      <td>...</td>\n",
       "    </tr>\n",
       "    <tr>\n",
       "      <th>148509</th>\n",
       "      <td>0</td>\n",
       "      <td>tcp</td>\n",
       "      <td>smtp</td>\n",
       "      <td>SF</td>\n",
       "      <td>794</td>\n",
       "      <td>333</td>\n",
       "      <td>0</td>\n",
       "      <td>0</td>\n",
       "      <td>0</td>\n",
       "      <td>0</td>\n",
       "      <td>...</td>\n",
       "      <td>141</td>\n",
       "      <td>0.72</td>\n",
       "      <td>0.06</td>\n",
       "      <td>0.01</td>\n",
       "      <td>0.01</td>\n",
       "      <td>0.01</td>\n",
       "      <td>0.00</td>\n",
       "      <td>0.00</td>\n",
       "      <td>0.00</td>\n",
       "      <td>normal</td>\n",
       "    </tr>\n",
       "    <tr>\n",
       "      <th>148510</th>\n",
       "      <td>0</td>\n",
       "      <td>tcp</td>\n",
       "      <td>http</td>\n",
       "      <td>SF</td>\n",
       "      <td>317</td>\n",
       "      <td>938</td>\n",
       "      <td>0</td>\n",
       "      <td>0</td>\n",
       "      <td>0</td>\n",
       "      <td>0</td>\n",
       "      <td>...</td>\n",
       "      <td>255</td>\n",
       "      <td>1.00</td>\n",
       "      <td>0.00</td>\n",
       "      <td>0.01</td>\n",
       "      <td>0.01</td>\n",
       "      <td>0.01</td>\n",
       "      <td>0.00</td>\n",
       "      <td>0.00</td>\n",
       "      <td>0.00</td>\n",
       "      <td>normal</td>\n",
       "    </tr>\n",
       "    <tr>\n",
       "      <th>148511</th>\n",
       "      <td>0</td>\n",
       "      <td>tcp</td>\n",
       "      <td>http</td>\n",
       "      <td>SF</td>\n",
       "      <td>54540</td>\n",
       "      <td>8314</td>\n",
       "      <td>0</td>\n",
       "      <td>0</td>\n",
       "      <td>0</td>\n",
       "      <td>2</td>\n",
       "      <td>...</td>\n",
       "      <td>255</td>\n",
       "      <td>1.00</td>\n",
       "      <td>0.00</td>\n",
       "      <td>0.00</td>\n",
       "      <td>0.00</td>\n",
       "      <td>0.00</td>\n",
       "      <td>0.00</td>\n",
       "      <td>0.07</td>\n",
       "      <td>0.07</td>\n",
       "      <td>None</td>\n",
       "    </tr>\n",
       "    <tr>\n",
       "      <th>148512</th>\n",
       "      <td>0</td>\n",
       "      <td>udp</td>\n",
       "      <td>domain_u</td>\n",
       "      <td>SF</td>\n",
       "      <td>42</td>\n",
       "      <td>42</td>\n",
       "      <td>0</td>\n",
       "      <td>0</td>\n",
       "      <td>0</td>\n",
       "      <td>0</td>\n",
       "      <td>...</td>\n",
       "      <td>252</td>\n",
       "      <td>0.99</td>\n",
       "      <td>0.01</td>\n",
       "      <td>0.00</td>\n",
       "      <td>0.00</td>\n",
       "      <td>0.00</td>\n",
       "      <td>0.00</td>\n",
       "      <td>0.00</td>\n",
       "      <td>0.00</td>\n",
       "      <td>normal</td>\n",
       "    </tr>\n",
       "    <tr>\n",
       "      <th>148513</th>\n",
       "      <td>0</td>\n",
       "      <td>tcp</td>\n",
       "      <td>sunrpc</td>\n",
       "      <td>REJ</td>\n",
       "      <td>0</td>\n",
       "      <td>0</td>\n",
       "      <td>0</td>\n",
       "      <td>0</td>\n",
       "      <td>0</td>\n",
       "      <td>0</td>\n",
       "      <td>...</td>\n",
       "      <td>21</td>\n",
       "      <td>0.08</td>\n",
       "      <td>0.03</td>\n",
       "      <td>0.00</td>\n",
       "      <td>0.00</td>\n",
       "      <td>0.00</td>\n",
       "      <td>0.00</td>\n",
       "      <td>0.44</td>\n",
       "      <td>1.00</td>\n",
       "      <td>None</td>\n",
       "    </tr>\n",
       "  </tbody>\n",
       "</table>\n",
       "<p>148514 rows × 42 columns</p>\n",
       "</div>"
      ],
      "text/plain": [
       "        duration protocol_type   service flag  src_bytes  dst_bytes  land  \\\n",
       "0              0           udp     other   SF        146          0     0   \n",
       "1              0           tcp   private   S0          0          0     0   \n",
       "2              0           tcp      http   SF        232       8153     0   \n",
       "3              0           tcp      http   SF        199        420     0   \n",
       "4              0           tcp   private  REJ          0          0     0   \n",
       "...          ...           ...       ...  ...        ...        ...   ...   \n",
       "148509         0           tcp      smtp   SF        794        333     0   \n",
       "148510         0           tcp      http   SF        317        938     0   \n",
       "148511         0           tcp      http   SF      54540       8314     0   \n",
       "148512         0           udp  domain_u   SF         42         42     0   \n",
       "148513         0           tcp    sunrpc  REJ          0          0     0   \n",
       "\n",
       "        wrong_fragment  urgent  hot  ...  dst_host_srv_count  \\\n",
       "0                    0       0    0  ...                   1   \n",
       "1                    0       0    0  ...                  26   \n",
       "2                    0       0    0  ...                 255   \n",
       "3                    0       0    0  ...                 255   \n",
       "4                    0       0    0  ...                  19   \n",
       "...                ...     ...  ...  ...                 ...   \n",
       "148509               0       0    0  ...                 141   \n",
       "148510               0       0    0  ...                 255   \n",
       "148511               0       0    2  ...                 255   \n",
       "148512               0       0    0  ...                 252   \n",
       "148513               0       0    0  ...                  21   \n",
       "\n",
       "        dst_host_same_srv_rate  dst_host_diff_srv_rate  \\\n",
       "0                         0.00                    0.60   \n",
       "1                         0.10                    0.05   \n",
       "2                         1.00                    0.00   \n",
       "3                         1.00                    0.00   \n",
       "4                         0.07                    0.07   \n",
       "...                        ...                     ...   \n",
       "148509                    0.72                    0.06   \n",
       "148510                    1.00                    0.00   \n",
       "148511                    1.00                    0.00   \n",
       "148512                    0.99                    0.01   \n",
       "148513                    0.08                    0.03   \n",
       "\n",
       "        dst_host_same_src_port_rate  dst_host_srv_diff_host_rate  \\\n",
       "0                              0.88                         0.00   \n",
       "1                              0.00                         0.00   \n",
       "2                              0.03                         0.04   \n",
       "3                              0.00                         0.00   \n",
       "4                              0.00                         0.00   \n",
       "...                             ...                          ...   \n",
       "148509                         0.01                         0.01   \n",
       "148510                         0.01                         0.01   \n",
       "148511                         0.00                         0.00   \n",
       "148512                         0.00                         0.00   \n",
       "148513                         0.00                         0.00   \n",
       "\n",
       "        dst_host_serror_rate  dst_host_srv_serror_rate  dst_host_rerror_rate  \\\n",
       "0                       0.00                      0.00                  0.00   \n",
       "1                       1.00                      1.00                  0.00   \n",
       "2                       0.03                      0.01                  0.00   \n",
       "3                       0.00                      0.00                  0.00   \n",
       "4                       0.00                      0.00                  1.00   \n",
       "...                      ...                       ...                   ...   \n",
       "148509                  0.01                      0.00                  0.00   \n",
       "148510                  0.01                      0.00                  0.00   \n",
       "148511                  0.00                      0.00                  0.07   \n",
       "148512                  0.00                      0.00                  0.00   \n",
       "148513                  0.00                      0.00                  0.44   \n",
       "\n",
       "        dst_host_srv_rerror_rate   label  \n",
       "0                           0.00  normal  \n",
       "1                           0.00     dos  \n",
       "2                           0.01  normal  \n",
       "3                           0.00  normal  \n",
       "4                           1.00     dos  \n",
       "...                          ...     ...  \n",
       "148509                      0.00  normal  \n",
       "148510                      0.00  normal  \n",
       "148511                      0.07    None  \n",
       "148512                      0.00  normal  \n",
       "148513                      1.00    None  \n",
       "\n",
       "[148514 rows x 42 columns]"
      ]
     },
     "execution_count": 49,
     "metadata": {},
     "output_type": "execute_result"
    }
   ],
   "source": [
    "KDD_Q5"
   ]
  },
  {
   "cell_type": "markdown",
   "id": "56766121",
   "metadata": {},
   "source": [
    "#### Sampling"
   ]
  },
  {
   "cell_type": "code",
   "execution_count": 50,
   "id": "b0c038da",
   "metadata": {},
   "outputs": [
    {
     "data": {
      "text/plain": [
       "dos       11617\n",
       "normal     6817\n",
       "R2L        3086\n",
       "probe       988\n",
       "u2r          53\n",
       "Name: label, dtype: int64"
      ]
     },
     "execution_count": 50,
     "metadata": {},
     "output_type": "execute_result"
    }
   ],
   "source": [
    "normal = pd.DataFrame(KDD_Q5['label'] == 'normal')\n",
    "dos = pd.DataFrame(KDD_Q5['label'] == 'dos')\n",
    "r2l = pd.DataFrame(KDD_Q5['label'] == 'R2L')\n",
    "probe = pd.DataFrame(KDD_Q5['label'] == 'probe')\n",
    "u2r = pd.DataFrame(KDD_Q5['label'] == 'u2r')\n",
    "\n",
    "normal = normal[normal['label'] == True]\n",
    "dos = dos[dos['label'] == True]\n",
    "r2l = r2l[r2l['label'] == True]\n",
    "probe = probe[probe['label'] == True]\n",
    "u2r = u2r[u2r['label'] == True]\n",
    "\n",
    "normal = pd.DataFrame(normal.sample(n=6817))\n",
    "dos = pd.DataFrame(dos.sample(n=11617))\n",
    "r2l = pd.DataFrame(r2l.sample(n=3086))\n",
    "probe = pd.DataFrame(probe.sample(n=988))\n",
    "u2r = pd.DataFrame(u2r.sample(n=53))\n",
    "\n",
    "kddq5_sample = pd.concat([normal, dos, r2l, probe, u2r])\n",
    "\n",
    "KDDq5_new = KDD_Q5.loc[kddq5_sample.index]\n",
    "\n",
    "KDDq5_new['label'].value_counts()"
   ]
  },
  {
   "cell_type": "markdown",
   "id": "19f01437",
   "metadata": {},
   "source": [
    "#### Encoding"
   ]
  },
  {
   "cell_type": "code",
   "execution_count": 51,
   "id": "0ec7c4c5",
   "metadata": {},
   "outputs": [
    {
     "name": "stdout",
     "output_type": "stream",
     "text": [
      "(22561, 42)\n",
      "(22561,)\n"
     ]
    }
   ],
   "source": [
    "from sklearn.preprocessing import LabelEncoder\n",
    "\n",
    "LabelEncoder = LabelEncoder()\n",
    "\n",
    "KDDq5_new['label'] = LabelEncoder.fit_transform(KDDq5_new['label'])\n",
    "KDDq5_new['protocol_type'] = LabelEncoder.fit_transform(KDDq5_new['protocol_type'])\n",
    "KDDq5_new['service'] = LabelEncoder.fit_transform(KDDq5_new['service'])\n",
    "KDDq5_new['flag'] = LabelEncoder.fit_transform(KDDq5_new['flag'])\n",
    "\n",
    "KDDq5_new = KDDq5_new.reset_index()\n",
    "\n",
    "Train_df = KDDq5_new.drop('label',axis=1)\n",
    "Test_df = KDDq5_new['label']\n",
    "\n",
    "print(Train_df.shape)\n",
    "print(Test_df.shape)"
   ]
  },
  {
   "cell_type": "markdown",
   "id": "01067b89",
   "metadata": {},
   "source": [
    "#### Scaling "
   ]
  },
  {
   "cell_type": "code",
   "execution_count": 52,
   "id": "0bb3b493",
   "metadata": {},
   "outputs": [],
   "source": [
    "from sklearn.preprocessing import StandardScaler\n",
    "\n",
    "scaler = StandardScaler()\n",
    "\n",
    "X_scaled = scaler.fit_transform(Train_df)"
   ]
  },
  {
   "cell_type": "markdown",
   "id": "17df7a57",
   "metadata": {},
   "source": [
    "### Feature Selection"
   ]
  },
  {
   "cell_type": "code",
   "execution_count": 53,
   "id": "ffbcd45e",
   "metadata": {},
   "outputs": [],
   "source": [
    "# Feature Selection using Random Forest\n",
    "from sklearn.feature_selection import SelectFromModel\n",
    "from sklearn.model_selection import train_test_split\n",
    "from sklearn.ensemble import RandomForestClassifier"
   ]
  },
  {
   "cell_type": "code",
   "execution_count": 54,
   "id": "5e70236a",
   "metadata": {},
   "outputs": [
    {
     "data": {
      "text/html": [
       "<style>#sk-container-id-1 {color: black;background-color: white;}#sk-container-id-1 pre{padding: 0;}#sk-container-id-1 div.sk-toggleable {background-color: white;}#sk-container-id-1 label.sk-toggleable__label {cursor: pointer;display: block;width: 100%;margin-bottom: 0;padding: 0.3em;box-sizing: border-box;text-align: center;}#sk-container-id-1 label.sk-toggleable__label-arrow:before {content: \"▸\";float: left;margin-right: 0.25em;color: #696969;}#sk-container-id-1 label.sk-toggleable__label-arrow:hover:before {color: black;}#sk-container-id-1 div.sk-estimator:hover label.sk-toggleable__label-arrow:before {color: black;}#sk-container-id-1 div.sk-toggleable__content {max-height: 0;max-width: 0;overflow: hidden;text-align: left;background-color: #f0f8ff;}#sk-container-id-1 div.sk-toggleable__content pre {margin: 0.2em;color: black;border-radius: 0.25em;background-color: #f0f8ff;}#sk-container-id-1 input.sk-toggleable__control:checked~div.sk-toggleable__content {max-height: 200px;max-width: 100%;overflow: auto;}#sk-container-id-1 input.sk-toggleable__control:checked~label.sk-toggleable__label-arrow:before {content: \"▾\";}#sk-container-id-1 div.sk-estimator input.sk-toggleable__control:checked~label.sk-toggleable__label {background-color: #d4ebff;}#sk-container-id-1 div.sk-label input.sk-toggleable__control:checked~label.sk-toggleable__label {background-color: #d4ebff;}#sk-container-id-1 input.sk-hidden--visually {border: 0;clip: rect(1px 1px 1px 1px);clip: rect(1px, 1px, 1px, 1px);height: 1px;margin: -1px;overflow: hidden;padding: 0;position: absolute;width: 1px;}#sk-container-id-1 div.sk-estimator {font-family: monospace;background-color: #f0f8ff;border: 1px dotted black;border-radius: 0.25em;box-sizing: border-box;margin-bottom: 0.5em;}#sk-container-id-1 div.sk-estimator:hover {background-color: #d4ebff;}#sk-container-id-1 div.sk-parallel-item::after {content: \"\";width: 100%;border-bottom: 1px solid gray;flex-grow: 1;}#sk-container-id-1 div.sk-label:hover label.sk-toggleable__label {background-color: #d4ebff;}#sk-container-id-1 div.sk-serial::before {content: \"\";position: absolute;border-left: 1px solid gray;box-sizing: border-box;top: 0;bottom: 0;left: 50%;z-index: 0;}#sk-container-id-1 div.sk-serial {display: flex;flex-direction: column;align-items: center;background-color: white;padding-right: 0.2em;padding-left: 0.2em;position: relative;}#sk-container-id-1 div.sk-item {position: relative;z-index: 1;}#sk-container-id-1 div.sk-parallel {display: flex;align-items: stretch;justify-content: center;background-color: white;position: relative;}#sk-container-id-1 div.sk-item::before, #sk-container-id-1 div.sk-parallel-item::before {content: \"\";position: absolute;border-left: 1px solid gray;box-sizing: border-box;top: 0;bottom: 0;left: 50%;z-index: -1;}#sk-container-id-1 div.sk-parallel-item {display: flex;flex-direction: column;z-index: 1;position: relative;background-color: white;}#sk-container-id-1 div.sk-parallel-item:first-child::after {align-self: flex-end;width: 50%;}#sk-container-id-1 div.sk-parallel-item:last-child::after {align-self: flex-start;width: 50%;}#sk-container-id-1 div.sk-parallel-item:only-child::after {width: 0;}#sk-container-id-1 div.sk-dashed-wrapped {border: 1px dashed gray;margin: 0 0.4em 0.5em 0.4em;box-sizing: border-box;padding-bottom: 0.4em;background-color: white;}#sk-container-id-1 div.sk-label label {font-family: monospace;font-weight: bold;display: inline-block;line-height: 1.2em;}#sk-container-id-1 div.sk-label-container {text-align: center;}#sk-container-id-1 div.sk-container {/* jupyter's `normalize.less` sets `[hidden] { display: none; }` but bootstrap.min.css set `[hidden] { display: none !important; }` so we also need the `!important` here to be able to override the default hidden behavior on the sphinx rendered scikit-learn.org. See: https://github.com/scikit-learn/scikit-learn/issues/21755 */display: inline-block !important;position: relative;}#sk-container-id-1 div.sk-text-repr-fallback {display: none;}</style><div id=\"sk-container-id-1\" class=\"sk-top-container\"><div class=\"sk-text-repr-fallback\"><pre>SelectFromModel(estimator=RandomForestClassifier(n_jobs=7))</pre><b>In a Jupyter environment, please rerun this cell to show the HTML representation or trust the notebook. <br />On GitHub, the HTML representation is unable to render, please try loading this page with nbviewer.org.</b></div><div class=\"sk-container\" hidden><div class=\"sk-item sk-dashed-wrapped\"><div class=\"sk-label-container\"><div class=\"sk-label sk-toggleable\"><input class=\"sk-toggleable__control sk-hidden--visually\" id=\"sk-estimator-id-1\" type=\"checkbox\" ><label for=\"sk-estimator-id-1\" class=\"sk-toggleable__label sk-toggleable__label-arrow\">SelectFromModel</label><div class=\"sk-toggleable__content\"><pre>SelectFromModel(estimator=RandomForestClassifier(n_jobs=7))</pre></div></div></div><div class=\"sk-parallel\"><div class=\"sk-parallel-item\"><div class=\"sk-item\"><div class=\"sk-label-container\"><div class=\"sk-label sk-toggleable\"><input class=\"sk-toggleable__control sk-hidden--visually\" id=\"sk-estimator-id-2\" type=\"checkbox\" ><label for=\"sk-estimator-id-2\" class=\"sk-toggleable__label sk-toggleable__label-arrow\">estimator: RandomForestClassifier</label><div class=\"sk-toggleable__content\"><pre>RandomForestClassifier(n_jobs=7)</pre></div></div></div><div class=\"sk-serial\"><div class=\"sk-item\"><div class=\"sk-estimator sk-toggleable\"><input class=\"sk-toggleable__control sk-hidden--visually\" id=\"sk-estimator-id-3\" type=\"checkbox\" ><label for=\"sk-estimator-id-3\" class=\"sk-toggleable__label sk-toggleable__label-arrow\">RandomForestClassifier</label><div class=\"sk-toggleable__content\"><pre>RandomForestClassifier(n_jobs=7)</pre></div></div></div></div></div></div></div></div></div></div>"
      ],
      "text/plain": [
       "SelectFromModel(estimator=RandomForestClassifier(n_jobs=7))"
      ]
     },
     "execution_count": 54,
     "metadata": {},
     "output_type": "execute_result"
    }
   ],
   "source": [
    "Selection = SelectFromModel(RandomForestClassifier(n_estimators = 100, n_jobs=7))\n",
    "Selection.fit(Train_df, Test_df)"
   ]
  },
  {
   "cell_type": "code",
   "execution_count": 55,
   "id": "973ca4f2",
   "metadata": {},
   "outputs": [
    {
     "data": {
      "text/plain": [
       "array([ True, False,  True,  True,  True,  True,  True, False, False,\n",
       "       False, False, False,  True, False, False, False, False, False,\n",
       "       False, False, False, False, False,  True,  True, False, False,\n",
       "       False, False,  True,  True, False, False,  True,  True,  True,\n",
       "        True, False, False, False, False, False])"
      ]
     },
     "execution_count": 55,
     "metadata": {},
     "output_type": "execute_result"
    }
   ],
   "source": [
    "Selection.get_support()"
   ]
  },
  {
   "cell_type": "code",
   "execution_count": 56,
   "id": "f040c95f",
   "metadata": {},
   "outputs": [
    {
     "name": "stdout",
     "output_type": "stream",
     "text": [
      "Index(['index', 'protocol_type', 'service', 'flag', 'src_bytes', 'dst_bytes',\n",
      "       'logged_in', 'count', 'srv_count', 'same_srv_rate', 'diff_srv_rate',\n",
      "       'dst_host_srv_count', 'dst_host_same_srv_rate',\n",
      "       'dst_host_diff_srv_rate', 'dst_host_same_src_port_rate'],\n",
      "      dtype='object')\n"
     ]
    }
   ],
   "source": [
    "selected_feat= Train_df.columns[(Selection.get_support())]\n",
    "print(selected_feat)"
   ]
  },
  {
   "cell_type": "code",
   "execution_count": 57,
   "id": "2542e236",
   "metadata": {},
   "outputs": [],
   "source": [
    "Train_df_new = Train_df[['protocol_type', 'service', 'flag', 'src_bytes', 'dst_bytes',\n",
    "                            'logged_in', 'count', 'srv_count', 'same_srv_rate', 'diff_srv_rate',\n",
    "                            'dst_host_srv_count', 'dst_host_same_srv_rate','dst_host_diff_srv_rate', \n",
    "                            'dst_host_same_src_port_rate','dst_host_serror_rate']]"
   ]
  },
  {
   "cell_type": "code",
   "execution_count": 58,
   "id": "efc71162",
   "metadata": {},
   "outputs": [
    {
     "data": {
      "text/html": [
       "<div>\n",
       "<style scoped>\n",
       "    .dataframe tbody tr th:only-of-type {\n",
       "        vertical-align: middle;\n",
       "    }\n",
       "\n",
       "    .dataframe tbody tr th {\n",
       "        vertical-align: top;\n",
       "    }\n",
       "\n",
       "    .dataframe thead th {\n",
       "        text-align: right;\n",
       "    }\n",
       "</style>\n",
       "<table border=\"1\" class=\"dataframe\">\n",
       "  <thead>\n",
       "    <tr style=\"text-align: right;\">\n",
       "      <th></th>\n",
       "      <th>protocol_type</th>\n",
       "      <th>service</th>\n",
       "      <th>flag</th>\n",
       "      <th>src_bytes</th>\n",
       "      <th>dst_bytes</th>\n",
       "      <th>logged_in</th>\n",
       "      <th>count</th>\n",
       "      <th>srv_count</th>\n",
       "      <th>same_srv_rate</th>\n",
       "      <th>diff_srv_rate</th>\n",
       "      <th>dst_host_srv_count</th>\n",
       "      <th>dst_host_same_srv_rate</th>\n",
       "      <th>dst_host_diff_srv_rate</th>\n",
       "      <th>dst_host_same_src_port_rate</th>\n",
       "      <th>dst_host_serror_rate</th>\n",
       "    </tr>\n",
       "  </thead>\n",
       "  <tbody>\n",
       "    <tr>\n",
       "      <th>0</th>\n",
       "      <td>1</td>\n",
       "      <td>22</td>\n",
       "      <td>9</td>\n",
       "      <td>229</td>\n",
       "      <td>40100</td>\n",
       "      <td>1</td>\n",
       "      <td>3</td>\n",
       "      <td>3</td>\n",
       "      <td>1.0</td>\n",
       "      <td>0.0</td>\n",
       "      <td>255</td>\n",
       "      <td>1.00</td>\n",
       "      <td>0.00</td>\n",
       "      <td>0.01</td>\n",
       "      <td>0.00</td>\n",
       "    </tr>\n",
       "    <tr>\n",
       "      <th>1</th>\n",
       "      <td>1</td>\n",
       "      <td>19</td>\n",
       "      <td>9</td>\n",
       "      <td>0</td>\n",
       "      <td>2416</td>\n",
       "      <td>0</td>\n",
       "      <td>1</td>\n",
       "      <td>12</td>\n",
       "      <td>1.0</td>\n",
       "      <td>0.0</td>\n",
       "      <td>89</td>\n",
       "      <td>0.33</td>\n",
       "      <td>0.06</td>\n",
       "      <td>0.00</td>\n",
       "      <td>0.02</td>\n",
       "    </tr>\n",
       "    <tr>\n",
       "      <th>2</th>\n",
       "      <td>1</td>\n",
       "      <td>22</td>\n",
       "      <td>9</td>\n",
       "      <td>204</td>\n",
       "      <td>882</td>\n",
       "      <td>1</td>\n",
       "      <td>14</td>\n",
       "      <td>14</td>\n",
       "      <td>1.0</td>\n",
       "      <td>0.0</td>\n",
       "      <td>255</td>\n",
       "      <td>1.00</td>\n",
       "      <td>0.00</td>\n",
       "      <td>0.00</td>\n",
       "      <td>0.00</td>\n",
       "    </tr>\n",
       "    <tr>\n",
       "      <th>3</th>\n",
       "      <td>1</td>\n",
       "      <td>22</td>\n",
       "      <td>9</td>\n",
       "      <td>217</td>\n",
       "      <td>633</td>\n",
       "      <td>1</td>\n",
       "      <td>1</td>\n",
       "      <td>24</td>\n",
       "      <td>1.0</td>\n",
       "      <td>0.0</td>\n",
       "      <td>255</td>\n",
       "      <td>1.00</td>\n",
       "      <td>0.00</td>\n",
       "      <td>0.01</td>\n",
       "      <td>0.00</td>\n",
       "    </tr>\n",
       "    <tr>\n",
       "      <th>4</th>\n",
       "      <td>1</td>\n",
       "      <td>49</td>\n",
       "      <td>9</td>\n",
       "      <td>1008</td>\n",
       "      <td>335</td>\n",
       "      <td>1</td>\n",
       "      <td>1</td>\n",
       "      <td>2</td>\n",
       "      <td>1.0</td>\n",
       "      <td>0.0</td>\n",
       "      <td>187</td>\n",
       "      <td>0.72</td>\n",
       "      <td>0.03</td>\n",
       "      <td>0.01</td>\n",
       "      <td>0.01</td>\n",
       "    </tr>\n",
       "    <tr>\n",
       "      <th>...</th>\n",
       "      <td>...</td>\n",
       "      <td>...</td>\n",
       "      <td>...</td>\n",
       "      <td>...</td>\n",
       "      <td>...</td>\n",
       "      <td>...</td>\n",
       "      <td>...</td>\n",
       "      <td>...</td>\n",
       "      <td>...</td>\n",
       "      <td>...</td>\n",
       "      <td>...</td>\n",
       "      <td>...</td>\n",
       "      <td>...</td>\n",
       "      <td>...</td>\n",
       "      <td>...</td>\n",
       "    </tr>\n",
       "    <tr>\n",
       "      <th>22556</th>\n",
       "      <td>1</td>\n",
       "      <td>19</td>\n",
       "      <td>9</td>\n",
       "      <td>0</td>\n",
       "      <td>2072</td>\n",
       "      <td>1</td>\n",
       "      <td>3</td>\n",
       "      <td>3</td>\n",
       "      <td>1.0</td>\n",
       "      <td>0.0</td>\n",
       "      <td>84</td>\n",
       "      <td>1.00</td>\n",
       "      <td>0.00</td>\n",
       "      <td>1.00</td>\n",
       "      <td>0.00</td>\n",
       "    </tr>\n",
       "    <tr>\n",
       "      <th>22557</th>\n",
       "      <td>1</td>\n",
       "      <td>19</td>\n",
       "      <td>9</td>\n",
       "      <td>0</td>\n",
       "      <td>5690</td>\n",
       "      <td>1</td>\n",
       "      <td>1</td>\n",
       "      <td>1</td>\n",
       "      <td>1.0</td>\n",
       "      <td>0.0</td>\n",
       "      <td>1</td>\n",
       "      <td>1.00</td>\n",
       "      <td>0.00</td>\n",
       "      <td>1.00</td>\n",
       "      <td>0.00</td>\n",
       "    </tr>\n",
       "    <tr>\n",
       "      <th>22558</th>\n",
       "      <td>1</td>\n",
       "      <td>55</td>\n",
       "      <td>9</td>\n",
       "      <td>258</td>\n",
       "      <td>2625</td>\n",
       "      <td>1</td>\n",
       "      <td>1</td>\n",
       "      <td>1</td>\n",
       "      <td>1.0</td>\n",
       "      <td>0.0</td>\n",
       "      <td>2</td>\n",
       "      <td>0.04</td>\n",
       "      <td>0.21</td>\n",
       "      <td>0.04</td>\n",
       "      <td>0.00</td>\n",
       "    </tr>\n",
       "    <tr>\n",
       "      <th>22559</th>\n",
       "      <td>1</td>\n",
       "      <td>19</td>\n",
       "      <td>9</td>\n",
       "      <td>0</td>\n",
       "      <td>2072</td>\n",
       "      <td>1</td>\n",
       "      <td>3</td>\n",
       "      <td>3</td>\n",
       "      <td>1.0</td>\n",
       "      <td>0.0</td>\n",
       "      <td>4</td>\n",
       "      <td>1.00</td>\n",
       "      <td>0.00</td>\n",
       "      <td>1.00</td>\n",
       "      <td>0.00</td>\n",
       "    </tr>\n",
       "    <tr>\n",
       "      <th>22560</th>\n",
       "      <td>1</td>\n",
       "      <td>55</td>\n",
       "      <td>9</td>\n",
       "      <td>2458</td>\n",
       "      <td>9336</td>\n",
       "      <td>1</td>\n",
       "      <td>1</td>\n",
       "      <td>1</td>\n",
       "      <td>1.0</td>\n",
       "      <td>0.0</td>\n",
       "      <td>19</td>\n",
       "      <td>0.13</td>\n",
       "      <td>0.03</td>\n",
       "      <td>0.01</td>\n",
       "      <td>0.00</td>\n",
       "    </tr>\n",
       "  </tbody>\n",
       "</table>\n",
       "<p>22561 rows × 15 columns</p>\n",
       "</div>"
      ],
      "text/plain": [
       "       protocol_type  service  flag  src_bytes  dst_bytes  logged_in  count  \\\n",
       "0                  1       22     9        229      40100          1      3   \n",
       "1                  1       19     9          0       2416          0      1   \n",
       "2                  1       22     9        204        882          1     14   \n",
       "3                  1       22     9        217        633          1      1   \n",
       "4                  1       49     9       1008        335          1      1   \n",
       "...              ...      ...   ...        ...        ...        ...    ...   \n",
       "22556              1       19     9          0       2072          1      3   \n",
       "22557              1       19     9          0       5690          1      1   \n",
       "22558              1       55     9        258       2625          1      1   \n",
       "22559              1       19     9          0       2072          1      3   \n",
       "22560              1       55     9       2458       9336          1      1   \n",
       "\n",
       "       srv_count  same_srv_rate  diff_srv_rate  dst_host_srv_count  \\\n",
       "0              3            1.0            0.0                 255   \n",
       "1             12            1.0            0.0                  89   \n",
       "2             14            1.0            0.0                 255   \n",
       "3             24            1.0            0.0                 255   \n",
       "4              2            1.0            0.0                 187   \n",
       "...          ...            ...            ...                 ...   \n",
       "22556          3            1.0            0.0                  84   \n",
       "22557          1            1.0            0.0                   1   \n",
       "22558          1            1.0            0.0                   2   \n",
       "22559          3            1.0            0.0                   4   \n",
       "22560          1            1.0            0.0                  19   \n",
       "\n",
       "       dst_host_same_srv_rate  dst_host_diff_srv_rate  \\\n",
       "0                        1.00                    0.00   \n",
       "1                        0.33                    0.06   \n",
       "2                        1.00                    0.00   \n",
       "3                        1.00                    0.00   \n",
       "4                        0.72                    0.03   \n",
       "...                       ...                     ...   \n",
       "22556                    1.00                    0.00   \n",
       "22557                    1.00                    0.00   \n",
       "22558                    0.04                    0.21   \n",
       "22559                    1.00                    0.00   \n",
       "22560                    0.13                    0.03   \n",
       "\n",
       "       dst_host_same_src_port_rate  dst_host_serror_rate  \n",
       "0                             0.01                  0.00  \n",
       "1                             0.00                  0.02  \n",
       "2                             0.00                  0.00  \n",
       "3                             0.01                  0.00  \n",
       "4                             0.01                  0.01  \n",
       "...                            ...                   ...  \n",
       "22556                         1.00                  0.00  \n",
       "22557                         1.00                  0.00  \n",
       "22558                         0.04                  0.00  \n",
       "22559                         1.00                  0.00  \n",
       "22560                         0.01                  0.00  \n",
       "\n",
       "[22561 rows x 15 columns]"
      ]
     },
     "execution_count": 58,
     "metadata": {},
     "output_type": "execute_result"
    }
   ],
   "source": [
    "Train_df_new"
   ]
  },
  {
   "cell_type": "markdown",
   "id": "2a175b5c",
   "metadata": {},
   "source": [
    "### PreProcess Selected Features"
   ]
  },
  {
   "cell_type": "markdown",
   "id": "4b028d97",
   "metadata": {},
   "source": [
    "#### Split"
   ]
  },
  {
   "cell_type": "code",
   "execution_count": 59,
   "id": "497bf8a4",
   "metadata": {},
   "outputs": [],
   "source": [
    "X_train, X_test, y_train, y_test = train_test_split(Train_df_new, Test_df, test_size=0.33)"
   ]
  },
  {
   "cell_type": "markdown",
   "id": "f13013df",
   "metadata": {},
   "source": [
    "#### Model"
   ]
  },
  {
   "cell_type": "code",
   "execution_count": 60,
   "id": "a00ca847",
   "metadata": {},
   "outputs": [],
   "source": [
    "from sklearn.ensemble import GradientBoostingClassifier\n",
    "\n",
    "\n",
    "clf = GradientBoostingClassifier(n_estimators=100, learning_rate=1.0,\n",
    "                                 max_depth=1, random_state=0).fit(X_train, y_train)"
   ]
  },
  {
   "cell_type": "markdown",
   "id": "d5675313",
   "metadata": {},
   "source": [
    "#### (iii) Detail description of the model including all parameters so that any reader can implement your model"
   ]
  },
  {
   "cell_type": "markdown",
   "id": "cbc7007a",
   "metadata": {},
   "source": [
    "The model is built by first determining the best features to select. This was done by building a random forest classifier with n_estimators = 100, and n_jobs =7.The data had previously been scaled and mapped in according with the methods found in Kilincer et al (2021). The algorithm used in the model is a Gradient Boosting Classifier. The parameters within the model are n_estimators= 100, learning_rate = 1.0, max_depth = 1.This model builds an additive model in forward stage-wise fashion allowing for the optimization of arbitrary differentiable loss functions. At each stage regression trees are fit on the negative gradient of the loss function."
   ]
  },
  {
   "cell_type": "markdown",
   "id": "c0c67d5a",
   "metadata": {},
   "source": [
    "#### Score and Prediction"
   ]
  },
  {
   "cell_type": "code",
   "execution_count": 62,
   "id": "00512b01",
   "metadata": {},
   "outputs": [],
   "source": [
    "# Prediction\n",
    "clf_pred = clf.predict(X_test)\n",
    "\n",
    "acc_rndclf = accuracy_score(y_test, clf_pred)\n",
    "f1_rndclf = f1_score(y_test, clf_pred, average=None).mean()\n",
    "recall_rndclf = recall_score(y_test, clf_pred, average=None).mean()\n",
    "precision_rndclf = precision_score(y_test, clf_pred, average=None).mean()\n",
    "rndclf_report = classification_report(y_test, clf_pred)"
   ]
  },
  {
   "cell_type": "code",
   "execution_count": 63,
   "id": "7a974b5d",
   "metadata": {},
   "outputs": [
    {
     "name": "stdout",
     "output_type": "stream",
     "text": [
      "              precision    recall  f1-score   support\n",
      "\n",
      "           0       0.66      0.94      0.78      1010\n",
      "           1       0.98      0.98      0.98      3846\n",
      "           2       0.93      0.87      0.90      2237\n",
      "           3       0.97      0.21      0.35       336\n",
      "           4       0.00      0.00      0.00        17\n",
      "\n",
      "    accuracy                           0.90      7446\n",
      "   macro avg       0.71      0.60      0.60      7446\n",
      "weighted avg       0.92      0.90      0.90      7446\n",
      "\n"
     ]
    }
   ],
   "source": [
    "print(rndclf_report)"
   ]
  },
  {
   "cell_type": "code",
   "execution_count": 64,
   "id": "f81e3716",
   "metadata": {},
   "outputs": [],
   "source": [
    "Accuracy_Table = pd.DataFrame([acc_rndclf, f1_rndclf, recall_rndclf, precision_rndclf], columns=['Random Forest'], index=['Acc', 'F1', 'Recall', 'Precision'])"
   ]
  },
  {
   "cell_type": "markdown",
   "id": "66d84b11",
   "metadata": {},
   "source": [
    "#### (v) Evaluation metrics"
   ]
  },
  {
   "cell_type": "code",
   "execution_count": 65,
   "id": "8259d914",
   "metadata": {},
   "outputs": [
    {
     "name": "stdout",
     "output_type": "stream",
     "text": [
      "           Random Forest\n",
      "Acc             0.903304\n",
      "F1              0.601373\n",
      "Recall          0.600855\n",
      "Precision       0.709131\n"
     ]
    }
   ],
   "source": [
    "print(Accuracy_Table)"
   ]
  },
  {
   "cell_type": "code",
   "execution_count": 67,
   "id": "6dc9db08",
   "metadata": {},
   "outputs": [
    {
     "data": {
      "text/plain": [
       "<sklearn.metrics._plot.confusion_matrix.ConfusionMatrixDisplay at 0x1ca021661f0>"
      ]
     },
     "execution_count": 67,
     "metadata": {},
     "output_type": "execute_result"
    },
    {
     "data": {
      "image/png": "[encoded data removed]",
      "text/plain": [
       "<Figure size 432x288 with 2 Axes>"
      ]
     },
     "metadata": {
      "needs_background": "light"
     },
     "output_type": "display_data"
    }
   ],
   "source": [
    "from sklearn.metrics import plot_confusion_matrix\n",
    "\n",
    "plot_confusion_matrix(clf, X_test, y_test)"
   ]
  },
  {
   "cell_type": "code",
   "execution_count": null,
   "id": "0c785b69",
   "metadata": {},
   "outputs": [],
   "source": []
  }
 ],
 "metadata": {
  "kernelspec": {
   "display_name": "Python 3 (ipykernel)",
   "language": "python",
   "name": "python3"
  },
  "language_info": {
   "codemirror_mode": {
    "name": "ipython",
    "version": 3
   },
   "file_extension": ".py",
   "mimetype": "text/x-python",
   "name": "python",
   "nbconvert_exporter": "python",
   "pygments_lexer": "ipython3",
   "version": "3.9.12"
  }
 },
 "nbformat": 4,
 "nbformat_minor": 5
}
